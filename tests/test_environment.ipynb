{
 "metadata": {
  "language_info": {
   "codemirror_mode": {
    "name": "ipython",
    "version": 3
   },
   "file_extension": ".py",
   "mimetype": "text/x-python",
   "name": "python",
   "nbconvert_exporter": "python",
   "pygments_lexer": "ipython3",
   "version": "3.8.5-final"
  },
  "orig_nbformat": 2,
  "kernelspec": {
   "name": "python3",
   "display_name": "Python 3.8.5 64-bit ('pymc3': conda)",
   "metadata": {
    "interpreter": {
     "hash": "cf8c942e34727b2412024ae883da8f3a624142846b49407d8c5d643f0ffcb05c"
    }
   }
  }
 },
 "nbformat": 4,
 "nbformat_minor": 2,
 "cells": [
  {
   "cell_type": "code",
   "execution_count": 1,
   "metadata": {},
   "outputs": [],
   "source": [
    "%load_ext autoreload\n",
    "%autoreload 2"
   ]
  },
  {
   "cell_type": "code",
   "execution_count": 2,
   "metadata": {},
   "outputs": [],
   "source": [
    "import numpy as np\n",
    "import pandas as pd\n",
    "from os import listdir\n",
    "from os.path import isfile, join\n",
    "import pymc3 as pm\n",
    "import math as m"
   ]
  },
  {
   "cell_type": "code",
   "execution_count": 3,
   "metadata": {},
   "outputs": [],
   "source": [
    "import dive"
   ]
  },
  {
   "cell_type": "code",
   "execution_count": 4,
   "metadata": {},
   "outputs": [
    {
     "output_type": "stream",
     "name": "stdout",
     "text": [
      "Help on package dive:\n\nNAME\n    dive - dive is a Python package for Bayesian analysis of DEER data.\n\nPACKAGE CONTENTS\n    constants\n    deerload\n    models\n    multigauss\n    plotting\n    utils\n\nFUNCTIONS\n    warn(message, category=None, stacklevel=1, source=None)\n        Issue a warning, or maybe ignore it or raise an exception.\n\nDATA\n    D = 3.269833470568843e-19\n    NA = 6.02214076e+23\n    fresnel = <ufunc 'fresnel'>\n    ge = 2.00231930436256\n    h = 6.62607015e-34\n    hbar = 1.0545718176461565e-34\n    mu0 = 1.25663706212e-06\n    muB = 9.2740100783e-24\n    w0 = 3.269833468788825e-19\n\nFILE\n    d:\\research\\projects\\software\\bayes\\dive\\dive\\__init__.py\n\n\n"
     ]
    }
   ],
   "source": [
    "help('dive')"
   ]
  },
  {
   "cell_type": "code",
   "execution_count": 5,
   "metadata": {},
   "outputs": [
    {
     "output_type": "stream",
     "name": "stdout",
     "text": [
      "3.269833468788825e-19\n1.0545718176461565e-34\n"
     ]
    }
   ],
   "source": [
    "print(dive.w0)\n",
    "\n",
    "print(dive.hbar)"
   ]
  },
  {
   "cell_type": "code",
   "execution_count": 6,
   "metadata": {},
   "outputs": [
    {
     "output_type": "stream",
     "name": "stdout",
     "text": [
      "[[ 3.35570470e-02  3.35570470e-02  3.35570470e-02 ...  3.35570470e-02\n   3.35570470e-02  3.35570470e-02]\n [ 2.52483766e-02  2.59689607e-02  2.66225336e-02 ...  3.35517725e-02\n   3.35519232e-02  3.35520688e-02]\n [ 8.42739469e-03  1.00178899e-02  1.15490291e-02 ...  3.35359528e-02\n   3.35365550e-02  3.35371373e-02]\n ...\n [-1.37599955e-03  2.04028292e-03 -1.72888498e-03 ...  3.52758661e-03\n   3.98813344e-03  4.44908802e-03]\n [-2.30260003e-05  1.36718653e-03 -1.87644319e-03 ...  3.20338855e-03\n   3.66174431e-03  4.12089292e-03]\n [ 1.43515011e-03 -9.33347701e-05 -1.11362410e-03 ...  2.88423794e-03\n   3.34015714e-03  3.79725714e-03]]\n"
     ]
    }
   ],
   "source": [
    "t = np.linspace(0,2,100)\n",
    "r = np.linspace(2,7,150)\n",
    "\n",
    "K = dive.dipolarkernel(t,r)\n",
    "\n",
    "print(K)"
   ]
  },
  {
   "cell_type": "code",
   "execution_count": 7,
   "metadata": {},
   "outputs": [
    {
     "output_type": "execute_result",
     "data": {
      "text/plain": [
       "<module 'dive' from 'd:\\\\research\\\\projects\\\\software\\\\bayes\\\\dive\\\\dive\\\\__init__.py'>"
      ]
     },
     "metadata": {},
     "execution_count": 7
    }
   ],
   "source": [
    "dive"
   ]
  },
  {
   "cell_type": "code",
   "execution_count": 8,
   "metadata": {},
   "outputs": [
    {
     "output_type": "stream",
     "name": "stdout",
     "text": [
      "Help on package deerlab:\n\nNAME\n    deerlab - # __init__.py\n\nPACKAGE CONTENTS\n    bg_models\n    bootan\n    classes\n    correctphase\n    correctscale\n    correctzerotime\n    dd_models\n    deerload\n    dipolarbackground\n    dipolarkernel\n    diststats\n    ex_models\n    fftspec\n    fitmultimodel\n    fitparamodel\n    fitregmodel\n    fitsignal\n    lsqcomponents\n    mixmodels\n    nnls\n    noiselevel\n    regoperator\n    regparamrange\n    selregparam\n    snlls\n    time2dist\n    utils (package)\n    whitegaussnoise\n\nDATA\n    pi = 3.141592653589793\n\nFILE\n    d:\\research\\projects\\software\\deerlab\\deerlab\\__init__.py\n\n\n"
     ]
    }
   ],
   "source": [
    "import deerlab\n",
    "\n",
    "help(deerlab)"
   ]
  },
  {
   "cell_type": "code",
   "execution_count": 9,
   "metadata": {},
   "outputs": [
    {
     "output_type": "stream",
     "name": "stdout",
     "text": [
      "Help on function mixmodels in module deerlab.mixmodels:\n\nmixmodels(*models)\n    Combine DeerLab parametric models into a mixed multi-component model.\n    \n    Parameters\n    ----------\n    models : callables\n        Parametric DeerLab models to be combined.\n    \n    Returns\n    --------\n    newmodel : callable\n        Mixed model.   \n    \n    Examples\n    --------\n    If one mixes a single Gaussian model (2 parameters) with a WLC model (2 parameters) into a single model::\n    \n        newmodel = mixmodels(dd_gauss,dd_wormchain)\n    \n    \n    the resulting model newmodel will contain 6 parameters in the following order: the 2 single-Gaussian parameters,\n    1 amplitude parameter for the Gaussian model, the 2 WLC parameters, and 1 amplitude parameter for the WLC model.\n\n"
     ]
    }
   ],
   "source": [
    "help(deerlab.mixmodels)"
   ]
  },
  {
   "cell_type": "code",
   "execution_count": 12,
   "metadata": {},
   "outputs": [
    {
     "output_type": "stream",
     "name": "stdout",
     "text": [
      "\n",
      "Please wait a moment while I gather a list of all available modules...\n",
      "\n",
      "IPython             chardet             multiprocessing     string\n",
      "PIL                 chunk               nbclient            stringprep\n",
      "PyQt5               cmath               nbconvert           struct\n",
      "__future__          cmd                 nbformat            subprocess\n",
      "_abc                code                nest_asyncio        sunau\n",
      "_ast                codecs              netCDF4             symbol\n",
      "_asyncio            codeop              netbios             symbolProvider\n",
      "_bisect             collections         netrc               sympyprinting\n",
      "_blake2             colorama            nntplib             symtable\n",
      "_bootlocale         colorsys            normalizeForInterpreter sys\n",
      "_bz2                commctrl            notebook            sysconfig\n",
      "_cffi_backend       compileall          nt                  tabnanny\n",
      "_codecs             completion          ntpath              tarfile\n",
      "_codecs_cn          concurrent          ntsecuritycon       telnetlib\n",
      "_codecs_hk          configparser        nturl2path          tempfile\n",
      "_codecs_iso2022     contextlib          numbers             terminado\n",
      "_codecs_jp          contextvars         numpy               test\n",
      "_codecs_kr          copy                odbc                testlauncher\n",
      "_codecs_tw          copyreg             olefile             testpath\n",
      "_collections        crypt               opcode              tests\n",
      "_collections_abc    csv                 operator            textwrap\n",
      "_compat_pickle      ctypes              optparse            theano\n",
      "_compression        curses              os                  this\n",
      "_contextvars        cvxopt              packaging           threading\n",
      "_csv                cycler              pandas              time\n",
      "_ctypes             cythonmagic         pandocfilters       timeit\n",
      "_ctypes_test        dataclasses         parser              timer\n",
      "_datetime           datetime            parso               tkinter\n",
      "_decimal            dateutil            pathlib             token\n",
      "_distutils_hack     dbi                 patsy               tokenize\n",
      "_dummy_thread       dbm                 pdb                 toml\n",
      "_elementtree        dde                 perfmon             tornado\n",
      "_functools          decimal             pickle              tqdm\n",
      "_hashlib            decorator           pickleshare         trace\n",
      "_heapq              deerlab             pickletools         traceback\n",
      "_imp                defusedxml          pip                 tracemalloc\n",
      "_io                 difflib             pipes               traitlets\n",
      "_json               dill                pipwin              tty\n",
      "_locale             dis                 pkg_resources       turtle\n",
      "_lsprof             distutils           pkgutil             turtledemo\n",
      "_lzma               dive                platform            types\n",
      "_markupbase         docopt              plistlib            typing\n",
      "_md5                doctest             pluggy              typing_extensions\n",
      "_msi                dummy_threading     poplib              tzlocal\n",
      "_multibytecodec     email               posixpath           ujson\n",
      "_multiprocessing    encodings           pprint              unicodedata\n",
      "_opcode             ensurepip           printEnvVariables   unittest\n",
      "_operator           entrypoints         printEnvVariablesToFile urllib\n",
      "_osx_support        enum                profile             urllib3\n",
      "_overlapped         errno               prometheus_client   uu\n",
      "_pickle             fastprogress        prompt_toolkit      uuid\n",
      "_py_abc             faulthandler        pstats              venv\n",
      "_pydecimal          filecmp             pty                 visualstudio_py_testlauncher\n",
      "_pyio               fileinput           pvectorc            vscode_datascience_helpers\n",
      "_pyrsistent_version filelock            py                  warnings\n",
      "_pytest             fnmatch             pySmartDL           wave\n",
      "_queue              formatter           py_compile          wcwidth\n",
      "_random             fractions           pyclbr              weakref\n",
      "_sha1               ftplib              pycparser           webbrowser\n",
      "_sha256             functools           pydoc               webencodings\n",
      "_sha3               gc                  pydoc_data          wheel\n",
      "_sha512             genericpath         pyexpat             widgetsnbextension\n",
      "_signal             getopt              pygments            win2kras\n",
      "_sitebuiltins       getpass             pyjsparser          win32api\n",
      "_socket             gettext             pylab               win32clipboard\n",
      "_sqlite3            glob                pyls_jsonrpc        win32com\n",
      "_sre                gzip                pymc3               win32con\n",
      "_ssl                hashlib             pyparsing           win32console\n",
      "_stat               heapq               pyprind             win32cred\n",
      "_statistics         hmac                pyrsistent          win32crypt\n",
      "_string             html                pytest              win32cryptcon\n",
      "_strptime           http                pythoncom           win32event\n",
      "_struct             idlelib             pytz                win32evtlog\n",
      "_symtable           idna                pyvsc-run-isolated  win32evtlogutil\n",
      "_testbuffer         imaplib             pywin               win32file\n",
      "_testcapi           imghdr              pywin32_bootstrap   win32gui\n",
      "_testconsole        imp                 pywin32_testutil    win32gui_struct\n",
      "_testimportmultiple importlib           pywintypes          win32help\n",
      "_testinternalcapi   importlib_metadata  qtconsole           win32inet\n",
      "_testmultiphase     iniconfig           qtpy                win32inetcon\n",
      "_thread             inspect             queue               win32job\n",
      "_threading_local    install_debugpy     quopri              win32lz\n",
      "_tkinter            interpreterInfo     random              win32net\n",
      "_tracemalloc        io                  rasutil             win32netcon\n",
      "_warnings           ipaddress           re                  win32pdh\n",
      "_weakref            ipykernel           regcheck            win32pdhquery\n",
      "_weakrefset         ipykernel_launcher  regutil             win32pdhutil\n",
      "_win32sysloader     ipython_genutils    reprlib             win32pipe\n",
      "_winapi             ipywidgets          requests            win32print\n",
      "_winxptheme         isapi               rlcompleter         win32process\n",
      "_xxsubinterpreters  itertools           rmagic              win32profile\n",
      "abc                 jedi                runJediLanguageServer win32ras\n",
      "adodbapi            jinja2              runpy               win32rcparser\n",
      "afxres              joblib              sched               win32security\n",
      "aifc                js2py               scipy               win32service\n",
      "antigravity         json                secrets             win32serviceutil\n",
      "argon2              jsonschema          select              win32timezone\n",
      "argparse            jupyter             selectors           win32trace\n",
      "array               jupyter_client      send2trash          win32traceutil\n",
      "arviz               jupyter_console     servicemanager      win32transaction\n",
      "ast                 jupyter_core        setup               win32ts\n",
      "async_generator     jupyterlab_pygments setuptools          win32ui\n",
      "asynchat            jupyterlab_widgets  shell_exec          win32uiole\n",
      "asyncio             keyword             shelve              win32verstamp\n",
      "asyncore            kiwisolver          shlex               win32wnet\n",
      "atexit              lib2to3             shutil              wincertstore\n",
      "atomicwrites        linecache           signal              winerror\n",
      "attr                locale              sip                 winioctlcon\n",
      "audioop             logging             sipconfig           winnt\n",
      "autoreload          lzma                sipdistutils        winperf\n",
      "backcall            mailbox             site                winpty\n",
      "base64              mailcap             six                 winreg\n",
      "bdb                 markupsafe          smtpd               winsound\n",
      "bin                 marshal             smtplib             winxpgui\n",
      "binascii            math                sndhdr              winxptheme\n",
      "binhex              matplotlib          socket              wsgiref\n",
      "bisect              memoization         socketserver        xarray\n",
      "bleach              mimetypes           soupsieve           xdrlib\n",
      "bs4                 mistune             sqlite3             xml\n",
      "builtins            mkl                 sre_compile         xmlrpc\n",
      "bz2                 mkl_fft             sre_constants       xxsubtype\n",
      "cProfile            mkl_random          sre_parse           zipapp\n",
      "calendar            mmap                ssl                 zipfile\n",
      "certifi             mmapfile            sspi                zipimport\n",
      "cffi                mmsystem            sspicon             zipp\n",
      "cftime              modulefinder        stat                zlib\n",
      "cgi                 msilib              statistics          zmq\n",
      "cgitb               msvcrt              storemagic          ~umpy\n",
      "\n",
      "Enter any module name to get more help.  Or, type \"modules spam\" to search\n",
      "for modules whose name or summary contain the string \"spam\".\n",
      "\n"
     ]
    }
   ],
   "source": [
    "help('modules')"
   ]
  }
 ]
}