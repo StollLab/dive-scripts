{
 "cells": [
  {
   "cell_type": "code",
   "execution_count": 1,
   "source": [
    "%load_ext autoreload\r\n",
    "%autoreload 2\r\n",
    "\r\n",
    "import pymc3 as pm\r\n",
    "import numpy as np\r\n",
    "import math as m\r\n",
    "import matplotlib.pyplot as plt\r\n",
    "import dive \r\n",
    "import deerlab as dl\r\n",
    "from scipy.io import loadmat"
   ],
   "outputs": [
    {
     "output_type": "stream",
     "name": "stderr",
     "text": [
      "WARNING (theano.tensor.blas): Using NumPy C-API based implementation for BLAS functions.\n"
     ]
    }
   ],
   "metadata": {}
  },
  {
   "cell_type": "markdown",
   "source": [
    "## Load and display data"
   ],
   "metadata": {}
  },
  {
   "cell_type": "code",
   "execution_count": null,
   "source": [
    "loaded_data = np.genfromtxt(\"../../data/3992_bad2.dat\", skip_header = 1, delimiter = ',')\r\n",
    "Pid = 3992\r\n",
    "t = loaded_data[:,0]\r\n",
    "Vexp = loaded_data[:,1]"
   ],
   "outputs": [],
   "metadata": {}
  },
  {
   "cell_type": "code",
   "execution_count": null,
   "source": [
    "plt.plot(t, Vexp)\r\n",
    "plt.xlabel('t (µs)')\r\n",
    "plt.ylabel('V')\r\n",
    "plt.show()\r\n",
    "\r\n",
    "P0s = loadmat('..\\..\\data\\edwards_testset\\distributions_2LZM.mat')['P0']\r\n",
    "rref = np.squeeze(loadmat('..\\..\\data\\edwards_testset\\distributions_2LZM.mat')['r0'])\r\n",
    "Pref = P0s[Pid-1,:]\r\n",
    "\r\n",
    "plt.plot(rref, Pref)\r\n",
    "plt.xlabel('r (nm)')\r\n",
    "plt.ylabel(r'$P~(nm^{-1})$')\r\n",
    "plt.show()\r\n",
    "\r\n"
   ],
   "outputs": [],
   "metadata": {}
  },
  {
   "cell_type": "markdown",
   "source": [
    "## Regularization"
   ],
   "metadata": {}
  },
  {
   "cell_type": "code",
   "execution_count": null,
   "source": [
    "pars = {\"method\": 'regularization', \"r\": np.linspace(2,6,200)}\r\n",
    "\r\n",
    "model = dive.model(t, Vexp, pars)\r\n",
    "\r\n",
    "MCMCparameters = {\"draws\": 5000,\"tune\": 2000, \"chains\": 4, 'cores': 4}\r\n",
    "trace = dive.sample(model,MCMCparameters)"
   ],
   "outputs": [],
   "metadata": {}
  },
  {
   "cell_type": "code",
   "execution_count": null,
   "source": [
    "dive.summary(trace, model, Pid = Pid)  "
   ],
   "outputs": [],
   "metadata": {}
  },
  {
   "cell_type": "markdown",
   "source": [
    "## Two Gaussians"
   ],
   "metadata": {}
  },
  {
   "cell_type": "code",
   "execution_count": null,
   "source": [
    "pars_gauss = {\"method\": 'gaussian', \"r\": np.linspace(2,6,200), 'nGauss': 2}\r\n",
    "\r\n",
    "model_gauss = dive.model(t, Vexp, pars_gauss)\r\n",
    "\r\n",
    "MCMCparameters = {\"draws\": 5000,\"tune\": 1000, \"chains\": 4, 'cores': 4}\r\n",
    "trace_gauss = dive.sample(model_gauss,MCMCparameters)\r\n",
    "\r\n",
    "dive.summary(trace_gauss, model_gauss, Pid = Pid)  "
   ],
   "outputs": [],
   "metadata": {}
  },
  {
   "cell_type": "markdown",
   "source": [
    "## Three Gaussians"
   ],
   "metadata": {}
  },
  {
   "cell_type": "code",
   "execution_count": null,
   "source": [
    "pars_gauss = {\"method\": 'gaussian', \"r\": np.linspace(2,6,200), 'nGauss': 3}\r\n",
    "\r\n",
    "model_gauss = dive.model(t, Vexp, pars_gauss)\r\n",
    "\r\n",
    "MCMCparameters = {\"draws\": 5000,\"tune\": 1000, \"chains\": 4, 'cores': 4}\r\n",
    "trace_gauss = dive.sample(model_gauss,MCMCparameters)"
   ],
   "outputs": [],
   "metadata": {}
  },
  {
   "cell_type": "code",
   "execution_count": null,
   "source": [
    "dive.summary(trace_gauss, model_gauss, Pid = Pid)  "
   ],
   "outputs": [],
   "metadata": {}
  }
 ],
 "metadata": {
  "orig_nbformat": 4,
  "language_info": {
   "name": "python",
   "version": "3.8.10",
   "mimetype": "text/x-python",
   "codemirror_mode": {
    "name": "ipython",
    "version": 3
   },
   "pygments_lexer": "ipython3",
   "nbconvert_exporter": "python",
   "file_extension": ".py"
  },
  "kernelspec": {
   "name": "python3",
   "display_name": "Python 3.8.10 64-bit ('pymc3': conda)"
  },
  "interpreter": {
   "hash": "cf8c942e34727b2412024ae883da8f3a624142846b49407d8c5d643f0ffcb05c"
  }
 },
 "nbformat": 4,
 "nbformat_minor": 2
}