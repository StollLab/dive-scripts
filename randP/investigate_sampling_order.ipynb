{
 "cells": [
  {
   "cell_type": "code",
   "execution_count": 2,
   "metadata": {},
   "outputs": [],
   "source": [
    "%load_ext autoreload\n",
    "%autoreload 2\n",
    "\n",
    "import numpy as np\n",
    "import scipy as sp\n",
    "import pandas as pd\n",
    "from os import listdir\n",
    "from os.path import isfile, join\n",
    "import pymc3 as pm\n",
    "import math as m\n",
    "import arviz as az\n",
    "\n",
    "import dive\n",
    "import matplotlib.pyplot as plt\n",
    "import deerlab as dl\n",
    "\n",
    "from theano import tensor as T\n",
    "from theano.tensor import nlinalg as tnp\n",
    "from theano.tensor import slinalg as snp"
   ]
  },
  {
   "cell_type": "markdown",
   "metadata": {},
   "source": [
    "### Generate a synthetic distribution and calculate S"
   ]
  },
  {
   "cell_type": "code",
   "execution_count": 3,
   "metadata": {},
   "outputs": [],
   "source": [
    "data, pars = dive.generateMultiGauss(nt = 160, seed = 129, k = 0.5, sigma = 0.01, V0 = 1.15, t_edges=[-0.1,3.0])"
   ]
  },
  {
   "cell_type": "code",
   "execution_count": 4,
   "metadata": {},
   "outputs": [
    {
     "output_type": "display_data",
     "data": {
      "text/plain": "<Figure size 432x288 with 2 Axes>",
      "image/svg+xml": "<?xml version=\"1.0\" encoding=\"utf-8\" standalone=\"no\"?>\r\n<!DOCTYPE svg PUBLIC \"-//W3C//DTD SVG 1.1//EN\"\r\n  \"http://www.w3.org/Graphics/SVG/1.1/DTD/svg11.dtd\">\r\n<svg height=\"279.884021pt\" version=\"1.1\" viewBox=\"0 0 424.275 279.884021\" width=\"424.275pt\" xmlns=\"http://www.w3.org/2000/svg\" xmlns:xlink=\"http://www.w3.org/1999/xlink\">\r\n <metadata>\r\n  <rdf:RDF xmlns:cc=\"http://creativecommons.org/ns#\" xmlns:dc=\"http://purl.org/dc/elements/1.1/\" xmlns:rdf=\"http://www.w3.org/1999/02/22-rdf-syntax-ns#\">\r\n   <cc:Work>\r\n    <dc:type rdf:resource=\"http://purl.org/dc/dcmitype/StillImage\"/>\r\n    <dc:date>2021-06-11T14:03:42.969845</dc:date>\r\n    <dc:format>image/svg+xml</dc:format>\r\n    <dc:creator>\r\n     <cc:Agent>\r\n      <dc:title>Matplotlib v3.4.2, https://matplotlib.org/</dc:title>\r\n     </cc:Agent>\r\n    </dc:creator>\r\n   </cc:Work>\r\n  </rdf:RDF>\r\n </metadata>\r\n <defs>\r\n  <style type=\"text/css\">*{stroke-linecap:butt;stroke-linejoin:round;}</style>\r\n </defs>\r\n <g id=\"figure_1\">\r\n  <g id=\"patch_1\">\r\n   <path d=\"M 0 279.884021 \r\nL 424.275 279.884021 \r\nL 424.275 0 \r\nL 0 0 \r\nz\r\n\" style=\"fill:none;\"/>\r\n  </g>\r\n  <g id=\"axes_1\">\r\n   <g id=\"patch_2\">\r\n    <path d=\"M 45.592188 242.327771 \r\nL 201.267188 242.327771 \r\nL 201.267188 9.891789 \r\nL 45.592188 9.891789 \r\nz\r\n\" style=\"fill:#ffffff;\"/>\r\n   </g>\r\n   <g id=\"matplotlib.axis_1\">\r\n    <g id=\"xtick_1\">\r\n     <g id=\"line2d_1\">\r\n      <defs>\r\n       <path d=\"M 0 0 \r\nL 0 3.5 \r\n\" id=\"m5badce8d6f\" style=\"stroke:#000000;stroke-width:0.8;\"/>\r\n      </defs>\r\n      <g>\r\n       <use style=\"stroke:#000000;stroke-width:0.8;\" x=\"50.613962\" xlink:href=\"#m5badce8d6f\" y=\"242.327771\"/>\r\n      </g>\r\n     </g>\r\n     <g id=\"text_1\">\r\n      <!-- 0 -->\r\n      <g transform=\"translate(47.135055 256.926209)scale(0.1 -0.1)\">\r\n       <defs>\r\n        <path d=\"M 2944 2338 \r\nQ 2944 3213 2780 3570 \r\nQ 2616 3928 2228 3928 \r\nQ 1841 3928 1675 3570 \r\nQ 1509 3213 1509 2338 \r\nQ 1509 1453 1675 1090 \r\nQ 1841 728 2228 728 \r\nQ 2613 728 2778 1090 \r\nQ 2944 1453 2944 2338 \r\nz\r\nM 4147 2328 \r\nQ 4147 1169 3647 539 \r\nQ 3147 -91 2228 -91 \r\nQ 1306 -91 806 539 \r\nQ 306 1169 306 2328 \r\nQ 306 3491 806 4120 \r\nQ 1306 4750 2228 4750 \r\nQ 3147 4750 3647 4120 \r\nQ 4147 3491 4147 2328 \r\nz\r\n\" id=\"DejaVuSans-Bold-30\" transform=\"scale(0.015625)\"/>\r\n       </defs>\r\n       <use xlink:href=\"#DejaVuSans-Bold-30\"/>\r\n      </g>\r\n     </g>\r\n    </g>\r\n    <g id=\"xtick_2\">\r\n     <g id=\"line2d_2\">\r\n      <g>\r\n       <use style=\"stroke:#000000;stroke-width:0.8;\" x=\"100.831704\" xlink:href=\"#m5badce8d6f\" y=\"242.327771\"/>\r\n      </g>\r\n     </g>\r\n     <g id=\"text_2\">\r\n      <!-- 1 -->\r\n      <g transform=\"translate(97.352797 256.926209)scale(0.1 -0.1)\">\r\n       <defs>\r\n        <path d=\"M 750 831 \r\nL 1813 831 \r\nL 1813 3847 \r\nL 722 3622 \r\nL 722 4441 \r\nL 1806 4666 \r\nL 2950 4666 \r\nL 2950 831 \r\nL 4013 831 \r\nL 4013 0 \r\nL 750 0 \r\nL 750 831 \r\nz\r\n\" id=\"DejaVuSans-Bold-31\" transform=\"scale(0.015625)\"/>\r\n       </defs>\r\n       <use xlink:href=\"#DejaVuSans-Bold-31\"/>\r\n      </g>\r\n     </g>\r\n    </g>\r\n    <g id=\"xtick_3\">\r\n     <g id=\"line2d_3\">\r\n      <g>\r\n       <use style=\"stroke:#000000;stroke-width:0.8;\" x=\"151.049446\" xlink:href=\"#m5badce8d6f\" y=\"242.327771\"/>\r\n      </g>\r\n     </g>\r\n     <g id=\"text_3\">\r\n      <!-- 2 -->\r\n      <g transform=\"translate(147.570539 256.926209)scale(0.1 -0.1)\">\r\n       <defs>\r\n        <path d=\"M 1844 884 \r\nL 3897 884 \r\nL 3897 0 \r\nL 506 0 \r\nL 506 884 \r\nL 2209 2388 \r\nQ 2438 2594 2547 2791 \r\nQ 2656 2988 2656 3200 \r\nQ 2656 3528 2436 3728 \r\nQ 2216 3928 1850 3928 \r\nQ 1569 3928 1234 3808 \r\nQ 900 3688 519 3450 \r\nL 519 4475 \r\nQ 925 4609 1322 4679 \r\nQ 1719 4750 2100 4750 \r\nQ 2938 4750 3402 4381 \r\nQ 3866 4013 3866 3353 \r\nQ 3866 2972 3669 2642 \r\nQ 3472 2313 2841 1759 \r\nL 1844 884 \r\nz\r\n\" id=\"DejaVuSans-Bold-32\" transform=\"scale(0.015625)\"/>\r\n       </defs>\r\n       <use xlink:href=\"#DejaVuSans-Bold-32\"/>\r\n      </g>\r\n     </g>\r\n    </g>\r\n    <g id=\"xtick_4\">\r\n     <g id=\"line2d_4\">\r\n      <g>\r\n       <use style=\"stroke:#000000;stroke-width:0.8;\" x=\"201.267188\" xlink:href=\"#m5badce8d6f\" y=\"242.327771\"/>\r\n      </g>\r\n     </g>\r\n     <g id=\"text_4\">\r\n      <!-- 3 -->\r\n      <g transform=\"translate(197.788281 256.926209)scale(0.1 -0.1)\">\r\n       <defs>\r\n        <path d=\"M 2981 2516 \r\nQ 3453 2394 3698 2092 \r\nQ 3944 1791 3944 1325 \r\nQ 3944 631 3412 270 \r\nQ 2881 -91 1863 -91 \r\nQ 1503 -91 1142 -33 \r\nQ 781 25 428 141 \r\nL 428 1069 \r\nQ 766 900 1098 814 \r\nQ 1431 728 1753 728 \r\nQ 2231 728 2486 893 \r\nQ 2741 1059 2741 1369 \r\nQ 2741 1688 2480 1852 \r\nQ 2219 2016 1709 2016 \r\nL 1228 2016 \r\nL 1228 2791 \r\nL 1734 2791 \r\nQ 2188 2791 2409 2933 \r\nQ 2631 3075 2631 3366 \r\nQ 2631 3634 2415 3781 \r\nQ 2200 3928 1806 3928 \r\nQ 1516 3928 1219 3862 \r\nQ 922 3797 628 3669 \r\nL 628 4550 \r\nQ 984 4650 1334 4700 \r\nQ 1684 4750 2022 4750 \r\nQ 2931 4750 3382 4451 \r\nQ 3834 4153 3834 3553 \r\nQ 3834 3144 3618 2883 \r\nQ 3403 2622 2981 2516 \r\nz\r\n\" id=\"DejaVuSans-Bold-33\" transform=\"scale(0.015625)\"/>\r\n       </defs>\r\n       <use xlink:href=\"#DejaVuSans-Bold-33\"/>\r\n      </g>\r\n     </g>\r\n    </g>\r\n    <g id=\"text_5\">\r\n     <!-- t (µs) -->\r\n     <g transform=\"translate(108.074219 270.593396)scale(0.1 -0.1)\">\r\n      <defs>\r\n       <path d=\"M 1759 4494 \r\nL 1759 3500 \r\nL 2913 3500 \r\nL 2913 2700 \r\nL 1759 2700 \r\nL 1759 1216 \r\nQ 1759 972 1856 886 \r\nQ 1953 800 2241 800 \r\nL 2816 800 \r\nL 2816 0 \r\nL 1856 0 \r\nQ 1194 0 917 276 \r\nQ 641 553 641 1216 \r\nL 641 2700 \r\nL 84 2700 \r\nL 84 3500 \r\nL 641 3500 \r\nL 641 4494 \r\nL 1759 4494 \r\nz\r\n\" id=\"DejaVuSans-Bold-74\" transform=\"scale(0.015625)\"/>\r\n       <path id=\"DejaVuSans-Bold-20\" transform=\"scale(0.015625)\"/>\r\n       <path d=\"M 2413 -844 \r\nL 1484 -844 \r\nQ 1006 -72 778 623 \r\nQ 550 1319 550 2003 \r\nQ 550 2688 779 3389 \r\nQ 1009 4091 1484 4856 \r\nL 2413 4856 \r\nQ 2013 4116 1813 3408 \r\nQ 1613 2700 1613 2009 \r\nQ 1613 1319 1811 609 \r\nQ 2009 -100 2413 -844 \r\nz\r\n\" id=\"DejaVuSans-Bold-28\" transform=\"scale(0.015625)\"/>\r\n       <path d=\"M 544 -1338 \r\nL 544 3500 \r\nL 1672 3500 \r\nL 1672 1466 \r\nQ 1672 1103 1828 926 \r\nQ 1984 750 2303 750 \r\nQ 2625 750 2781 926 \r\nQ 2938 1103 2938 1466 \r\nL 2938 3500 \r\nL 4063 3500 \r\nL 4063 1159 \r\nQ 4063 938 4114 850 \r\nQ 4166 763 4288 763 \r\nQ 4344 763 4395 778 \r\nQ 4447 794 4506 831 \r\nL 4506 50 \r\nQ 4341 -22 4195 -56 \r\nQ 4050 -91 3909 -91 \r\nQ 3631 -91 3454 26 \r\nQ 3278 144 3169 403 \r\nQ 3022 156 2811 32 \r\nQ 2600 -91 2322 -91 \r\nQ 2091 -91 1928 -17 \r\nQ 1766 56 1672 206 \r\nL 1672 -1338 \r\nL 544 -1338 \r\nz\r\n\" id=\"DejaVuSans-Bold-b5\" transform=\"scale(0.015625)\"/>\r\n       <path d=\"M 3272 3391 \r\nL 3272 2541 \r\nQ 2913 2691 2578 2766 \r\nQ 2244 2841 1947 2841 \r\nQ 1628 2841 1473 2761 \r\nQ 1319 2681 1319 2516 \r\nQ 1319 2381 1436 2309 \r\nQ 1553 2238 1856 2203 \r\nL 2053 2175 \r\nQ 2913 2066 3209 1816 \r\nQ 3506 1566 3506 1031 \r\nQ 3506 472 3093 190 \r\nQ 2681 -91 1863 -91 \r\nQ 1516 -91 1145 -36 \r\nQ 775 19 384 128 \r\nL 384 978 \r\nQ 719 816 1070 734 \r\nQ 1422 653 1784 653 \r\nQ 2113 653 2278 743 \r\nQ 2444 834 2444 1013 \r\nQ 2444 1163 2330 1236 \r\nQ 2216 1309 1875 1350 \r\nL 1678 1375 \r\nQ 931 1469 631 1722 \r\nQ 331 1975 331 2491 \r\nQ 331 3047 712 3315 \r\nQ 1094 3584 1881 3584 \r\nQ 2191 3584 2531 3537 \r\nQ 2872 3491 3272 3391 \r\nz\r\n\" id=\"DejaVuSans-Bold-73\" transform=\"scale(0.015625)\"/>\r\n       <path d=\"M 513 -844 \r\nQ 913 -100 1113 609 \r\nQ 1313 1319 1313 2009 \r\nQ 1313 2700 1113 3408 \r\nQ 913 4116 513 4856 \r\nL 1441 4856 \r\nQ 1916 4091 2145 3389 \r\nQ 2375 2688 2375 2003 \r\nQ 2375 1319 2147 623 \r\nQ 1919 -72 1441 -844 \r\nL 513 -844 \r\nz\r\n\" id=\"DejaVuSans-Bold-29\" transform=\"scale(0.015625)\"/>\r\n      </defs>\r\n      <use xlink:href=\"#DejaVuSans-Bold-74\"/>\r\n      <use x=\"47.802734\" xlink:href=\"#DejaVuSans-Bold-20\"/>\r\n      <use x=\"82.617188\" xlink:href=\"#DejaVuSans-Bold-28\"/>\r\n      <use x=\"128.320312\" xlink:href=\"#DejaVuSans-Bold-b5\"/>\r\n      <use x=\"201.904297\" xlink:href=\"#DejaVuSans-Bold-73\"/>\r\n      <use x=\"261.425781\" xlink:href=\"#DejaVuSans-Bold-29\"/>\r\n     </g>\r\n    </g>\r\n   </g>\r\n   <g id=\"matplotlib.axis_2\">\r\n    <g id=\"ytick_1\">\r\n     <g id=\"line2d_5\">\r\n      <defs>\r\n       <path d=\"M 0 0 \r\nL -3.5 0 \r\n\" id=\"mf3c4b1b6c6\" style=\"stroke:#000000;stroke-width:0.8;\"/>\r\n      </defs>\r\n      <g>\r\n       <use style=\"stroke:#000000;stroke-width:0.8;\" x=\"45.592188\" xlink:href=\"#mf3c4b1b6c6\" y=\"212.860759\"/>\r\n      </g>\r\n     </g>\r\n     <g id=\"text_6\">\r\n      <!-- 0.2 -->\r\n      <g transform=\"translate(20.878125 216.659978)scale(0.1 -0.1)\">\r\n       <defs>\r\n        <path d=\"M 653 1209 \r\nL 1778 1209 \r\nL 1778 0 \r\nL 653 0 \r\nL 653 1209 \r\nz\r\n\" id=\"DejaVuSans-Bold-2e\" transform=\"scale(0.015625)\"/>\r\n       </defs>\r\n       <use xlink:href=\"#DejaVuSans-Bold-30\"/>\r\n       <use x=\"69.580078\" xlink:href=\"#DejaVuSans-Bold-2e\"/>\r\n       <use x=\"107.568359\" xlink:href=\"#DejaVuSans-Bold-32\"/>\r\n      </g>\r\n     </g>\r\n    </g>\r\n    <g id=\"ytick_2\">\r\n     <g id=\"line2d_6\">\r\n      <g>\r\n       <use style=\"stroke:#000000;stroke-width:0.8;\" x=\"45.592188\" xlink:href=\"#mf3c4b1b6c6\" y=\"172.488451\"/>\r\n      </g>\r\n     </g>\r\n     <g id=\"text_7\">\r\n      <!-- 0.4 -->\r\n      <g transform=\"translate(20.878125 176.28767)scale(0.1 -0.1)\">\r\n       <defs>\r\n        <path d=\"M 2356 3675 \r\nL 1038 1722 \r\nL 2356 1722 \r\nL 2356 3675 \r\nz\r\nM 2156 4666 \r\nL 3494 4666 \r\nL 3494 1722 \r\nL 4159 1722 \r\nL 4159 850 \r\nL 3494 850 \r\nL 3494 0 \r\nL 2356 0 \r\nL 2356 850 \r\nL 288 850 \r\nL 288 1881 \r\nL 2156 4666 \r\nz\r\n\" id=\"DejaVuSans-Bold-34\" transform=\"scale(0.015625)\"/>\r\n       </defs>\r\n       <use xlink:href=\"#DejaVuSans-Bold-30\"/>\r\n       <use x=\"69.580078\" xlink:href=\"#DejaVuSans-Bold-2e\"/>\r\n       <use x=\"107.568359\" xlink:href=\"#DejaVuSans-Bold-34\"/>\r\n      </g>\r\n     </g>\r\n    </g>\r\n    <g id=\"ytick_3\">\r\n     <g id=\"line2d_7\">\r\n      <g>\r\n       <use style=\"stroke:#000000;stroke-width:0.8;\" x=\"45.592188\" xlink:href=\"#mf3c4b1b6c6\" y=\"132.116143\"/>\r\n      </g>\r\n     </g>\r\n     <g id=\"text_8\">\r\n      <!-- 0.6 -->\r\n      <g transform=\"translate(20.878125 135.915362)scale(0.1 -0.1)\">\r\n       <defs>\r\n        <path d=\"M 2316 2303 \r\nQ 2000 2303 1842 2098 \r\nQ 1684 1894 1684 1484 \r\nQ 1684 1075 1842 870 \r\nQ 2000 666 2316 666 \r\nQ 2634 666 2792 870 \r\nQ 2950 1075 2950 1484 \r\nQ 2950 1894 2792 2098 \r\nQ 2634 2303 2316 2303 \r\nz\r\nM 3803 4544 \r\nL 3803 3681 \r\nQ 3506 3822 3243 3889 \r\nQ 2981 3956 2731 3956 \r\nQ 2194 3956 1894 3657 \r\nQ 1594 3359 1544 2772 \r\nQ 1750 2925 1990 3001 \r\nQ 2231 3078 2516 3078 \r\nQ 3231 3078 3670 2659 \r\nQ 4109 2241 4109 1563 \r\nQ 4109 813 3618 361 \r\nQ 3128 -91 2303 -91 \r\nQ 1394 -91 895 523 \r\nQ 397 1138 397 2266 \r\nQ 397 3422 980 4083 \r\nQ 1563 4744 2578 4744 \r\nQ 2900 4744 3203 4694 \r\nQ 3506 4644 3803 4544 \r\nz\r\n\" id=\"DejaVuSans-Bold-36\" transform=\"scale(0.015625)\"/>\r\n       </defs>\r\n       <use xlink:href=\"#DejaVuSans-Bold-30\"/>\r\n       <use x=\"69.580078\" xlink:href=\"#DejaVuSans-Bold-2e\"/>\r\n       <use x=\"107.568359\" xlink:href=\"#DejaVuSans-Bold-36\"/>\r\n      </g>\r\n     </g>\r\n    </g>\r\n    <g id=\"ytick_4\">\r\n     <g id=\"line2d_8\">\r\n      <g>\r\n       <use style=\"stroke:#000000;stroke-width:0.8;\" x=\"45.592188\" xlink:href=\"#mf3c4b1b6c6\" y=\"91.743835\"/>\r\n      </g>\r\n     </g>\r\n     <g id=\"text_9\">\r\n      <!-- 0.8 -->\r\n      <g transform=\"translate(20.878125 95.543054)scale(0.1 -0.1)\">\r\n       <defs>\r\n        <path d=\"M 2228 2088 \r\nQ 1891 2088 1709 1903 \r\nQ 1528 1719 1528 1375 \r\nQ 1528 1031 1709 848 \r\nQ 1891 666 2228 666 \r\nQ 2563 666 2741 848 \r\nQ 2919 1031 2919 1375 \r\nQ 2919 1722 2741 1905 \r\nQ 2563 2088 2228 2088 \r\nz\r\nM 1350 2484 \r\nQ 925 2613 709 2878 \r\nQ 494 3144 494 3541 \r\nQ 494 4131 934 4440 \r\nQ 1375 4750 2228 4750 \r\nQ 3075 4750 3515 4442 \r\nQ 3956 4134 3956 3541 \r\nQ 3956 3144 3739 2878 \r\nQ 3522 2613 3097 2484 \r\nQ 3572 2353 3814 2058 \r\nQ 4056 1763 4056 1313 \r\nQ 4056 619 3595 264 \r\nQ 3134 -91 2228 -91 \r\nQ 1319 -91 855 264 \r\nQ 391 619 391 1313 \r\nQ 391 1763 633 2058 \r\nQ 875 2353 1350 2484 \r\nz\r\nM 1631 3419 \r\nQ 1631 3141 1786 2991 \r\nQ 1941 2841 2228 2841 \r\nQ 2509 2841 2662 2991 \r\nQ 2816 3141 2816 3419 \r\nQ 2816 3697 2662 3845 \r\nQ 2509 3994 2228 3994 \r\nQ 1941 3994 1786 3844 \r\nQ 1631 3694 1631 3419 \r\nz\r\n\" id=\"DejaVuSans-Bold-38\" transform=\"scale(0.015625)\"/>\r\n       </defs>\r\n       <use xlink:href=\"#DejaVuSans-Bold-30\"/>\r\n       <use x=\"69.580078\" xlink:href=\"#DejaVuSans-Bold-2e\"/>\r\n       <use x=\"107.568359\" xlink:href=\"#DejaVuSans-Bold-38\"/>\r\n      </g>\r\n     </g>\r\n    </g>\r\n    <g id=\"ytick_5\">\r\n     <g id=\"line2d_9\">\r\n      <g>\r\n       <use style=\"stroke:#000000;stroke-width:0.8;\" x=\"45.592188\" xlink:href=\"#mf3c4b1b6c6\" y=\"51.371527\"/>\r\n      </g>\r\n     </g>\r\n     <g id=\"text_10\">\r\n      <!-- 1.0 -->\r\n      <g transform=\"translate(20.878125 55.170746)scale(0.1 -0.1)\">\r\n       <use xlink:href=\"#DejaVuSans-Bold-31\"/>\r\n       <use x=\"69.580078\" xlink:href=\"#DejaVuSans-Bold-2e\"/>\r\n       <use x=\"107.568359\" xlink:href=\"#DejaVuSans-Bold-30\"/>\r\n      </g>\r\n     </g>\r\n    </g>\r\n    <g id=\"ytick_6\">\r\n     <g id=\"line2d_10\">\r\n      <g>\r\n       <use style=\"stroke:#000000;stroke-width:0.8;\" x=\"45.592188\" xlink:href=\"#mf3c4b1b6c6\" y=\"10.999219\"/>\r\n      </g>\r\n     </g>\r\n     <g id=\"text_11\">\r\n      <!-- 1.2 -->\r\n      <g transform=\"translate(20.878125 14.798437)scale(0.1 -0.1)\">\r\n       <use xlink:href=\"#DejaVuSans-Bold-31\"/>\r\n       <use x=\"69.580078\" xlink:href=\"#DejaVuSans-Bold-2e\"/>\r\n       <use x=\"107.568359\" xlink:href=\"#DejaVuSans-Bold-32\"/>\r\n      </g>\r\n     </g>\r\n    </g>\r\n    <g id=\"text_12\">\r\n     <!-- S -->\r\n     <g transform=\"translate(14.798438 129.710561)rotate(-90)scale(0.1 -0.1)\">\r\n      <defs>\r\n       <path d=\"M 3834 4519 \r\nL 3834 3531 \r\nQ 3450 3703 3084 3790 \r\nQ 2719 3878 2394 3878 \r\nQ 1963 3878 1756 3759 \r\nQ 1550 3641 1550 3391 \r\nQ 1550 3203 1689 3098 \r\nQ 1828 2994 2194 2919 \r\nL 2706 2816 \r\nQ 3484 2659 3812 2340 \r\nQ 4141 2022 4141 1434 \r\nQ 4141 663 3683 286 \r\nQ 3225 -91 2284 -91 \r\nQ 1841 -91 1394 -6 \r\nQ 947 78 500 244 \r\nL 500 1259 \r\nQ 947 1022 1364 901 \r\nQ 1781 781 2169 781 \r\nQ 2563 781 2772 912 \r\nQ 2981 1044 2981 1288 \r\nQ 2981 1506 2839 1625 \r\nQ 2697 1744 2272 1838 \r\nL 1806 1941 \r\nQ 1106 2091 782 2419 \r\nQ 459 2747 459 3303 \r\nQ 459 4000 909 4375 \r\nQ 1359 4750 2203 4750 \r\nQ 2588 4750 2994 4692 \r\nQ 3400 4634 3834 4519 \r\nz\r\n\" id=\"DejaVuSans-Bold-53\" transform=\"scale(0.015625)\"/>\r\n      </defs>\r\n      <use xlink:href=\"#DejaVuSans-Bold-53\"/>\r\n     </g>\r\n    </g>\r\n   </g>\r\n   <g id=\"line2d_11\">\r\n    <path clip-path=\"url(#p163bef6289)\" d=\"M 45.592188 45.059001 \r\nL 46.571276 35.474996 \r\nL 47.550364 33.263238 \r\nL 48.529452 27.196092 \r\nL 49.50854 24.094126 \r\nL 50.487628 20.457061 \r\nL 51.466716 23.882574 \r\nL 52.445804 29.013919 \r\nL 53.424892 31.871524 \r\nL 55.383068 41.120965 \r\nL 56.362156 44.306093 \r\nL 57.341244 52.395725 \r\nL 58.320332 55.607574 \r\nL 59.29942 61.977242 \r\nL 60.278508 74.223418 \r\nL 61.257596 80.976603 \r\nL 62.236684 85.695512 \r\nL 63.215772 88.996232 \r\nL 64.19486 98.563246 \r\nL 66.153037 112.020862 \r\nL 67.132125 114.327683 \r\nL 68.111213 123.241909 \r\nL 69.090301 128.45213 \r\nL 70.069389 134.765406 \r\nL 71.048477 137.10116 \r\nL 72.027565 140.531572 \r\nL 73.006653 147.579527 \r\nL 73.985741 148.222608 \r\nL 74.964829 154.712919 \r\nL 75.943917 157.107303 \r\nL 76.923005 160.491667 \r\nL 78.881181 166.535285 \r\nL 79.860269 165.897027 \r\nL 80.839357 168.864162 \r\nL 81.818445 172.425641 \r\nL 82.797533 173.817006 \r\nL 83.776621 178.628871 \r\nL 84.75571 176.554609 \r\nL 85.734798 180.96372 \r\nL 86.713886 179.594718 \r\nL 87.692974 179.727497 \r\nL 88.672062 181.998487 \r\nL 89.65115 182.301696 \r\nL 90.630238 185.174856 \r\nL 91.609326 187.514593 \r\nL 92.588414 186.107968 \r\nL 93.567502 188.124841 \r\nL 94.54659 184.923286 \r\nL 95.525678 186.957098 \r\nL 96.504766 186.58827 \r\nL 97.483854 188.430176 \r\nL 98.462942 188.409361 \r\nL 99.44203 186.233026 \r\nL 100.421118 188.938551 \r\nL 101.400206 185.839615 \r\nL 102.379294 187.050468 \r\nL 103.358382 189.978604 \r\nL 104.337471 187.174649 \r\nL 105.316559 193.08097 \r\nL 106.295647 188.973207 \r\nL 107.274735 192.840033 \r\nL 108.253823 194.552138 \r\nL 109.232911 191.127769 \r\nL 110.211999 191.871041 \r\nL 111.191087 194.79624 \r\nL 112.170175 194.71788 \r\nL 113.149263 194.26773 \r\nL 114.128351 194.913749 \r\nL 115.107439 193.444435 \r\nL 116.086527 200.328313 \r\nL 117.065615 193.727491 \r\nL 118.044703 193.57003 \r\nL 119.023791 197.810363 \r\nL 120.981967 196.12983 \r\nL 121.961055 197.144243 \r\nL 122.940143 197.626295 \r\nL 123.919232 195.140629 \r\nL 124.89832 194.910499 \r\nL 125.877408 198.643101 \r\nL 126.856496 201.122775 \r\nL 127.835584 198.711122 \r\nL 128.814672 199.684626 \r\nL 129.79376 202.533657 \r\nL 130.772848 202.830305 \r\nL 131.751936 200.777782 \r\nL 132.731024 199.655996 \r\nL 133.710112 204.294349 \r\nL 134.6892 208.058209 \r\nL 135.668288 205.238744 \r\nL 136.647376 206.680858 \r\nL 137.626464 203.763452 \r\nL 138.605552 208.062159 \r\nL 139.58464 207.185196 \r\nL 140.563728 206.533274 \r\nL 141.542816 206.043776 \r\nL 142.521904 209.692542 \r\nL 143.500993 210.049892 \r\nL 144.480081 209.138295 \r\nL 145.459169 207.363878 \r\nL 146.438257 210.191715 \r\nL 147.417345 211.702006 \r\nL 148.396433 210.771921 \r\nL 149.375521 212.683156 \r\nL 150.354609 210.141593 \r\nL 151.333697 210.872899 \r\nL 152.312785 209.81794 \r\nL 153.291873 216.174771 \r\nL 154.270961 212.242615 \r\nL 155.250049 213.445298 \r\nL 156.229137 212.690891 \r\nL 157.208225 214.587753 \r\nL 158.187313 214.116929 \r\nL 159.166401 216.109662 \r\nL 160.145489 213.057059 \r\nL 161.124577 212.965955 \r\nL 162.103665 218.735985 \r\nL 163.082754 213.385112 \r\nL 164.061842 214.335637 \r\nL 165.04093 215.958656 \r\nL 166.020018 217.814285 \r\nL 166.999106 220.566685 \r\nL 167.978194 215.002108 \r\nL 168.957282 217.688366 \r\nL 169.93637 216.901764 \r\nL 170.915458 218.051753 \r\nL 171.894546 220.791588 \r\nL 172.873634 218.158928 \r\nL 173.852722 217.083782 \r\nL 174.83181 219.499404 \r\nL 175.810898 218.848841 \r\nL 176.789986 217.087736 \r\nL 177.769074 221.298533 \r\nL 178.748162 215.474024 \r\nL 179.72725 224.951657 \r\nL 180.706338 219.302759 \r\nL 181.685426 222.164317 \r\nL 182.664515 221.384213 \r\nL 183.643603 223.111448 \r\nL 184.622691 218.555399 \r\nL 185.601779 222.220464 \r\nL 186.580867 221.902711 \r\nL 187.559955 224.548472 \r\nL 188.539043 220.844596 \r\nL 189.518131 223.660678 \r\nL 190.497219 225.865146 \r\nL 191.476307 224.465564 \r\nL 192.455395 225.667123 \r\nL 193.434483 225.957028 \r\nL 194.413571 227.963482 \r\nL 195.392659 223.313963 \r\nL 196.371747 229.397563 \r\nL 197.350835 226.602939 \r\nL 198.329923 231.762499 \r\nL 199.309011 227.904836 \r\nL 200.288099 228.368313 \r\nL 201.267188 225.727508 \r\nL 201.267188 225.727508 \r\n\" style=\"fill:none;stroke:#1f77b4;stroke-linecap:square;stroke-width:1.5;\"/>\r\n   </g>\r\n   <g id=\"line2d_12\">\r\n    <path clip-path=\"url(#p163bef6289)\" d=\"M 45.592188 41.771057 \r\nL 47.550364 31.723506 \r\nL 48.529452 27.586623 \r\nL 49.50854 24.12633 \r\nL 50.487628 21.390631 \r\nL 51.466716 23.34938 \r\nL 52.445804 26.626695 \r\nL 53.424892 30.594346 \r\nL 54.40398 35.194269 \r\nL 56.362156 46.00366 \r\nL 58.320332 58.408956 \r\nL 66.153037 110.960076 \r\nL 68.111213 122.408407 \r\nL 70.069389 132.681045 \r\nL 72.027565 141.738147 \r\nL 73.985741 149.617174 \r\nL 75.943917 156.403481 \r\nL 77.902093 162.205966 \r\nL 79.860269 167.139479 \r\nL 81.818445 171.313964 \r\nL 83.776621 174.829209 \r\nL 85.734798 177.773589 \r\nL 87.692974 180.225176 \r\nL 89.65115 182.253862 \r\nL 91.609326 183.923533 \r\nL 93.567502 185.293723 \r\nL 95.525678 186.420525 \r\nL 98.462942 187.769036 \r\nL 101.400206 188.850529 \r\nL 113.149263 192.837688 \r\nL 117.065615 194.503807 \r\nL 121.961055 196.870699 \r\nL 128.814672 200.491567 \r\nL 137.626464 205.112352 \r\nL 143.500993 207.926352 \r\nL 149.375521 210.467984 \r\nL 155.250049 212.763146 \r\nL 162.103665 215.204098 \r\nL 170.915458 218.10403 \r\nL 182.664515 221.737804 \r\nL 194.413571 225.163415 \r\nL 201.267188 227.045371 \r\nL 201.267188 227.045371 \r\n\" style=\"fill:none;stroke:#ff7f0e;stroke-linecap:square;stroke-width:1.5;\"/>\r\n   </g>\r\n   <g id=\"patch_3\">\r\n    <path d=\"M 45.592188 242.327771 \r\nL 45.592188 9.891789 \r\n\" style=\"fill:none;stroke:#000000;stroke-linecap:square;stroke-linejoin:miter;stroke-width:0.8;\"/>\r\n   </g>\r\n   <g id=\"patch_4\">\r\n    <path d=\"M 201.267188 242.327771 \r\nL 201.267188 9.891789 \r\n\" style=\"fill:none;stroke:#000000;stroke-linecap:square;stroke-linejoin:miter;stroke-width:0.8;\"/>\r\n   </g>\r\n   <g id=\"patch_5\">\r\n    <path d=\"M 45.592188 242.327771 \r\nL 201.267188 242.327771 \r\n\" style=\"fill:none;stroke:#000000;stroke-linecap:square;stroke-linejoin:miter;stroke-width:0.8;\"/>\r\n   </g>\r\n   <g id=\"patch_6\">\r\n    <path d=\"M 45.592188 9.891789 \r\nL 201.267188 9.891789 \r\n\" style=\"fill:none;stroke:#000000;stroke-linecap:square;stroke-linejoin:miter;stroke-width:0.8;\"/>\r\n   </g>\r\n  </g>\r\n  <g id=\"axes_2\">\r\n   <g id=\"patch_7\">\r\n    <path d=\"M 254.442188 242.327771 \r\nL 410.117188 242.327771 \r\nL 410.117188 9.891789 \r\nL 254.442188 9.891789 \r\nz\r\n\" style=\"fill:#ffffff;\"/>\r\n   </g>\r\n   <g id=\"matplotlib.axis_3\">\r\n    <g id=\"xtick_5\">\r\n     <g id=\"line2d_13\">\r\n      <g>\r\n       <use style=\"stroke:#000000;stroke-width:0.8;\" x=\"271.73941\" xlink:href=\"#m5badce8d6f\" y=\"242.327771\"/>\r\n      </g>\r\n     </g>\r\n     <g id=\"text_13\">\r\n      <!-- 2 -->\r\n      <g transform=\"translate(268.260503 256.926209)scale(0.1 -0.1)\">\r\n       <use xlink:href=\"#DejaVuSans-Bold-32\"/>\r\n      </g>\r\n     </g>\r\n    </g>\r\n    <g id=\"xtick_6\">\r\n     <g id=\"line2d_14\">\r\n      <g>\r\n       <use style=\"stroke:#000000;stroke-width:0.8;\" x=\"306.333854\" xlink:href=\"#m5badce8d6f\" y=\"242.327771\"/>\r\n      </g>\r\n     </g>\r\n     <g id=\"text_14\">\r\n      <!-- 4 -->\r\n      <g transform=\"translate(302.854948 256.926209)scale(0.1 -0.1)\">\r\n       <use xlink:href=\"#DejaVuSans-Bold-34\"/>\r\n      </g>\r\n     </g>\r\n    </g>\r\n    <g id=\"xtick_7\">\r\n     <g id=\"line2d_15\">\r\n      <g>\r\n       <use style=\"stroke:#000000;stroke-width:0.8;\" x=\"340.928299\" xlink:href=\"#m5badce8d6f\" y=\"242.327771\"/>\r\n      </g>\r\n     </g>\r\n     <g id=\"text_15\">\r\n      <!-- 6 -->\r\n      <g transform=\"translate(337.449392 256.926209)scale(0.1 -0.1)\">\r\n       <use xlink:href=\"#DejaVuSans-Bold-36\"/>\r\n      </g>\r\n     </g>\r\n    </g>\r\n    <g id=\"xtick_8\">\r\n     <g id=\"line2d_16\">\r\n      <g>\r\n       <use style=\"stroke:#000000;stroke-width:0.8;\" x=\"375.522743\" xlink:href=\"#m5badce8d6f\" y=\"242.327771\"/>\r\n      </g>\r\n     </g>\r\n     <g id=\"text_16\">\r\n      <!-- 8 -->\r\n      <g transform=\"translate(372.043837 256.926209)scale(0.1 -0.1)\">\r\n       <use xlink:href=\"#DejaVuSans-Bold-38\"/>\r\n      </g>\r\n     </g>\r\n    </g>\r\n    <g id=\"xtick_9\">\r\n     <g id=\"line2d_17\">\r\n      <g>\r\n       <use style=\"stroke:#000000;stroke-width:0.8;\" x=\"410.117188\" xlink:href=\"#m5badce8d6f\" y=\"242.327771\"/>\r\n      </g>\r\n     </g>\r\n     <g id=\"text_17\">\r\n      <!-- 10 -->\r\n      <g transform=\"translate(403.159375 256.926209)scale(0.1 -0.1)\">\r\n       <use xlink:href=\"#DejaVuSans-Bold-31\"/>\r\n       <use x=\"69.580078\" xlink:href=\"#DejaVuSans-Bold-30\"/>\r\n      </g>\r\n     </g>\r\n    </g>\r\n    <g id=\"text_18\">\r\n     <!-- r (nm) -->\r\n     <g transform=\"translate(314.733594 270.604334)scale(0.1 -0.1)\">\r\n      <defs>\r\n       <path d=\"M 3138 2547 \r\nQ 2991 2616 2845 2648 \r\nQ 2700 2681 2553 2681 \r\nQ 2122 2681 1889 2404 \r\nQ 1656 2128 1656 1613 \r\nL 1656 0 \r\nL 538 0 \r\nL 538 3500 \r\nL 1656 3500 \r\nL 1656 2925 \r\nQ 1872 3269 2151 3426 \r\nQ 2431 3584 2822 3584 \r\nQ 2878 3584 2943 3579 \r\nQ 3009 3575 3134 3559 \r\nL 3138 2547 \r\nz\r\n\" id=\"DejaVuSans-Bold-72\" transform=\"scale(0.015625)\"/>\r\n       <path d=\"M 4056 2131 \r\nL 4056 0 \r\nL 2931 0 \r\nL 2931 347 \r\nL 2931 1631 \r\nQ 2931 2084 2911 2256 \r\nQ 2891 2428 2841 2509 \r\nQ 2775 2619 2662 2680 \r\nQ 2550 2741 2406 2741 \r\nQ 2056 2741 1856 2470 \r\nQ 1656 2200 1656 1722 \r\nL 1656 0 \r\nL 538 0 \r\nL 538 3500 \r\nL 1656 3500 \r\nL 1656 2988 \r\nQ 1909 3294 2193 3439 \r\nQ 2478 3584 2822 3584 \r\nQ 3428 3584 3742 3212 \r\nQ 4056 2841 4056 2131 \r\nz\r\n\" id=\"DejaVuSans-Bold-6e\" transform=\"scale(0.015625)\"/>\r\n       <path d=\"M 3781 2919 \r\nQ 3994 3244 4286 3414 \r\nQ 4578 3584 4928 3584 \r\nQ 5531 3584 5847 3212 \r\nQ 6163 2841 6163 2131 \r\nL 6163 0 \r\nL 5038 0 \r\nL 5038 1825 \r\nQ 5041 1866 5042 1909 \r\nQ 5044 1953 5044 2034 \r\nQ 5044 2406 4934 2573 \r\nQ 4825 2741 4581 2741 \r\nQ 4263 2741 4089 2478 \r\nQ 3916 2216 3909 1719 \r\nL 3909 0 \r\nL 2784 0 \r\nL 2784 1825 \r\nQ 2784 2406 2684 2573 \r\nQ 2584 2741 2328 2741 \r\nQ 2006 2741 1831 2477 \r\nQ 1656 2213 1656 1722 \r\nL 1656 0 \r\nL 531 0 \r\nL 531 3500 \r\nL 1656 3500 \r\nL 1656 2988 \r\nQ 1863 3284 2130 3434 \r\nQ 2397 3584 2719 3584 \r\nQ 3081 3584 3359 3409 \r\nQ 3638 3234 3781 2919 \r\nz\r\n\" id=\"DejaVuSans-Bold-6d\" transform=\"scale(0.015625)\"/>\r\n      </defs>\r\n      <use xlink:href=\"#DejaVuSans-Bold-72\"/>\r\n      <use x=\"49.316406\" xlink:href=\"#DejaVuSans-Bold-20\"/>\r\n      <use x=\"84.130859\" xlink:href=\"#DejaVuSans-Bold-28\"/>\r\n      <use x=\"129.833984\" xlink:href=\"#DejaVuSans-Bold-6e\"/>\r\n      <use x=\"201.025391\" xlink:href=\"#DejaVuSans-Bold-6d\"/>\r\n      <use x=\"305.224609\" xlink:href=\"#DejaVuSans-Bold-29\"/>\r\n     </g>\r\n    </g>\r\n   </g>\r\n   <g id=\"matplotlib.axis_4\">\r\n    <g id=\"ytick_7\">\r\n     <g id=\"line2d_18\">\r\n      <g>\r\n       <use style=\"stroke:#000000;stroke-width:0.8;\" x=\"254.442188\" xlink:href=\"#mf3c4b1b6c6\" y=\"231.762499\"/>\r\n      </g>\r\n     </g>\r\n     <g id=\"text_19\">\r\n      <!-- 0.0 -->\r\n      <g transform=\"translate(229.728125 235.561718)scale(0.1 -0.1)\">\r\n       <use xlink:href=\"#DejaVuSans-Bold-30\"/>\r\n       <use x=\"69.580078\" xlink:href=\"#DejaVuSans-Bold-2e\"/>\r\n       <use x=\"107.568359\" xlink:href=\"#DejaVuSans-Bold-30\"/>\r\n      </g>\r\n     </g>\r\n    </g>\r\n    <g id=\"ytick_8\">\r\n     <g id=\"line2d_19\">\r\n      <g>\r\n       <use style=\"stroke:#000000;stroke-width:0.8;\" x=\"254.442188\" xlink:href=\"#mf3c4b1b6c6\" y=\"184.353158\"/>\r\n      </g>\r\n     </g>\r\n     <g id=\"text_20\">\r\n      <!-- 0.2 -->\r\n      <g transform=\"translate(229.728125 188.152377)scale(0.1 -0.1)\">\r\n       <use xlink:href=\"#DejaVuSans-Bold-30\"/>\r\n       <use x=\"69.580078\" xlink:href=\"#DejaVuSans-Bold-2e\"/>\r\n       <use x=\"107.568359\" xlink:href=\"#DejaVuSans-Bold-32\"/>\r\n      </g>\r\n     </g>\r\n    </g>\r\n    <g id=\"ytick_9\">\r\n     <g id=\"line2d_20\">\r\n      <g>\r\n       <use style=\"stroke:#000000;stroke-width:0.8;\" x=\"254.442188\" xlink:href=\"#mf3c4b1b6c6\" y=\"136.943817\"/>\r\n      </g>\r\n     </g>\r\n     <g id=\"text_21\">\r\n      <!-- 0.4 -->\r\n      <g transform=\"translate(229.728125 140.743036)scale(0.1 -0.1)\">\r\n       <use xlink:href=\"#DejaVuSans-Bold-30\"/>\r\n       <use x=\"69.580078\" xlink:href=\"#DejaVuSans-Bold-2e\"/>\r\n       <use x=\"107.568359\" xlink:href=\"#DejaVuSans-Bold-34\"/>\r\n      </g>\r\n     </g>\r\n    </g>\r\n    <g id=\"ytick_10\">\r\n     <g id=\"line2d_21\">\r\n      <g>\r\n       <use style=\"stroke:#000000;stroke-width:0.8;\" x=\"254.442188\" xlink:href=\"#mf3c4b1b6c6\" y=\"89.534476\"/>\r\n      </g>\r\n     </g>\r\n     <g id=\"text_22\">\r\n      <!-- 0.6 -->\r\n      <g transform=\"translate(229.728125 93.333695)scale(0.1 -0.1)\">\r\n       <use xlink:href=\"#DejaVuSans-Bold-30\"/>\r\n       <use x=\"69.580078\" xlink:href=\"#DejaVuSans-Bold-2e\"/>\r\n       <use x=\"107.568359\" xlink:href=\"#DejaVuSans-Bold-36\"/>\r\n      </g>\r\n     </g>\r\n    </g>\r\n    <g id=\"ytick_11\">\r\n     <g id=\"line2d_22\">\r\n      <g>\r\n       <use style=\"stroke:#000000;stroke-width:0.8;\" x=\"254.442188\" xlink:href=\"#mf3c4b1b6c6\" y=\"42.125135\"/>\r\n      </g>\r\n     </g>\r\n     <g id=\"text_23\">\r\n      <!-- 0.8 -->\r\n      <g transform=\"translate(229.728125 45.924354)scale(0.1 -0.1)\">\r\n       <use xlink:href=\"#DejaVuSans-Bold-30\"/>\r\n       <use x=\"69.580078\" xlink:href=\"#DejaVuSans-Bold-2e\"/>\r\n       <use x=\"107.568359\" xlink:href=\"#DejaVuSans-Bold-38\"/>\r\n      </g>\r\n     </g>\r\n    </g>\r\n    <g id=\"text_24\">\r\n     <!-- P -->\r\n     <g transform=\"translate(223.648438 129.774624)rotate(-90)scale(0.1 -0.1)\">\r\n      <defs>\r\n       <path d=\"M 588 4666 \r\nL 2584 4666 \r\nQ 3475 4666 3951 4270 \r\nQ 4428 3875 4428 3144 \r\nQ 4428 2409 3951 2014 \r\nQ 3475 1619 2584 1619 \r\nL 1791 1619 \r\nL 1791 0 \r\nL 588 0 \r\nL 588 4666 \r\nz\r\nM 1791 3794 \r\nL 1791 2491 \r\nL 2456 2491 \r\nQ 2806 2491 2997 2661 \r\nQ 3188 2831 3188 3144 \r\nQ 3188 3456 2997 3625 \r\nQ 2806 3794 2456 3794 \r\nL 1791 3794 \r\nz\r\n\" id=\"DejaVuSans-Bold-50\" transform=\"scale(0.015625)\"/>\r\n      </defs>\r\n      <use xlink:href=\"#DejaVuSans-Bold-50\"/>\r\n     </g>\r\n    </g>\r\n   </g>\r\n   <g id=\"line2d_23\">\r\n    <path clip-path=\"url(#p1862bfa4fa)\" d=\"M 254.442188 231.762499 \r\nL 285.810992 231.658331 \r\nL 287.564528 231.427711 \r\nL 288.733552 231.05947 \r\nL 289.707738 230.493647 \r\nL 290.487087 229.767967 \r\nL 291.266437 228.686043 \r\nL 292.045786 227.109731 \r\nL 292.825135 224.86691 \r\nL 293.604484 221.752418 \r\nL 294.383833 217.53386 \r\nL 295.163182 211.963748 \r\nL 295.942532 204.798877 \r\nL 296.721881 195.826913 \r\nL 297.696067 181.852669 \r\nL 298.670254 164.764873 \r\nL 300.034115 136.214658 \r\nL 304.125698 45.46621 \r\nL 304.905047 33.732114 \r\nL 305.489559 27.206123 \r\nL 306.074071 22.824786 \r\nL 306.463746 21.141944 \r\nL 306.85342 20.457061 \r\nL 307.048258 20.485417 \r\nL 307.243095 20.756988 \r\nL 307.632769 22.011598 \r\nL 308.022444 24.174706 \r\nL 308.606956 28.986061 \r\nL 309.386305 37.910308 \r\nL 310.360492 52.041776 \r\nL 314.452075 115.339009 \r\nL 315.426261 125.933633 \r\nL 316.400448 134.15656 \r\nL 317.374634 140.294721 \r\nL 318.348821 144.808999 \r\nL 319.323007 148.226202 \r\nL 320.686868 152.116695 \r\nL 322.440404 157.136725 \r\nL 323.609428 161.113562 \r\nL 324.973289 166.615349 \r\nL 326.531987 173.93678 \r\nL 329.064872 187.160503 \r\nL 331.792594 201.086694 \r\nL 333.54613 208.878079 \r\nL 334.909991 214.052169 \r\nL 336.273852 218.393006 \r\nL 337.442876 221.462144 \r\nL 338.6119 223.970395 \r\nL 339.780923 225.974579 \r\nL 340.949947 227.541109 \r\nL 342.118971 228.739392 \r\nL 343.287995 229.636726 \r\nL 344.651856 230.385093 \r\nL 346.210554 230.948807 \r\nL 347.96409 231.329565 \r\nL 350.302137 231.587408 \r\nL 353.809209 231.723233 \r\nL 362.576887 231.762044 \r\nL 410.117188 231.762499 \r\nL 410.117188 231.762499 \r\n\" style=\"fill:none;stroke:#1f77b4;stroke-linecap:square;stroke-width:1.5;\"/>\r\n   </g>\r\n   <g id=\"patch_8\">\r\n    <path d=\"M 254.442188 242.327771 \r\nL 254.442188 9.891789 \r\n\" style=\"fill:none;stroke:#000000;stroke-linecap:square;stroke-linejoin:miter;stroke-width:0.8;\"/>\r\n   </g>\r\n   <g id=\"patch_9\">\r\n    <path d=\"M 410.117188 242.327771 \r\nL 410.117188 9.891789 \r\n\" style=\"fill:none;stroke:#000000;stroke-linecap:square;stroke-linejoin:miter;stroke-width:0.8;\"/>\r\n   </g>\r\n   <g id=\"patch_10\">\r\n    <path d=\"M 254.442188 242.327771 \r\nL 410.117188 242.327771 \r\n\" style=\"fill:none;stroke:#000000;stroke-linecap:square;stroke-linejoin:miter;stroke-width:0.8;\"/>\r\n   </g>\r\n   <g id=\"patch_11\">\r\n    <path d=\"M 254.442188 9.891789 \r\nL 410.117188 9.891789 \r\n\" style=\"fill:none;stroke:#000000;stroke-linecap:square;stroke-linejoin:miter;stroke-width:0.8;\"/>\r\n   </g>\r\n  </g>\r\n </g>\r\n <defs>\r\n  <clipPath id=\"p163bef6289\">\r\n   <rect height=\"232.435982\" width=\"155.675\" x=\"45.592188\" y=\"9.891789\"/>\r\n  </clipPath>\r\n  <clipPath id=\"p1862bfa4fa\">\r\n   <rect height=\"232.435982\" width=\"155.675\" x=\"254.442188\" y=\"9.891789\"/>\r\n  </clipPath>\r\n </defs>\r\n</svg>\r\n",
      "image/png": "[encoded data removed]"
     },
     "metadata": {
      "needs_background": "light"
     }
    }
   ],
   "source": [
    "t = data['t']\n",
    "Vexp = data['V']\n",
    "\n",
    "fig, ax = plt.subplots(1,2)\n",
    "line0 = ax[0].plot(t, Vexp)\n",
    "line1 = ax[0].plot(t, data['V0'])\n",
    "line2 = ax[1].plot(data['r'], data['P'])\n",
    "\n",
    "ax[0].set(xlim = [min(t),max(t)], xlabel = 't (µs)', ylabel = 'S')\n",
    "ax[1].set(xlim = [min(data['r']),max(data['r'])], xlabel = 'r (nm)', ylabel = 'P')\n",
    "plt.tight_layout()\n",
    "plt.show()"
   ]
  },
  {
   "cell_type": "markdown",
   "metadata": {},
   "source": [
    "### Initialize parameters and matrices"
   ]
  },
  {
   "cell_type": "code",
   "execution_count": 5,
   "metadata": {},
   "outputs": [],
   "source": [
    "# r vector\n",
    "r = np.linspace(2,8,150)\n",
    "dr = r[1] - r[0]\n",
    "\n",
    "# kernel regularization operator\n",
    "K0 = dl.dipolarkernel(t,r,integralop=False)   # kernel matrix\n",
    "L = dl.regoperator(np.linspace(1,len(r),len(r)), 2)\n",
    "LtL = np.matmul(np.transpose(L),L)\n",
    "K0tK0 = np.matmul(np.transpose(K0),K0)\n",
    "\n",
    "# parameters for delta distribution\n",
    "a0 = 0.01\n",
    "b0 = 1e-6"
   ]
  },
  {
   "cell_type": "markdown",
   "metadata": {},
   "source": [
    "### Setup model"
   ]
  },
  {
   "cell_type": "code",
   "execution_count": 6,
   "metadata": {},
   "outputs": [
    {
     "output_type": "execute_result",
     "data": {
      "text/plain": [
       "<graphviz.dot.Digraph at 0x1ba65c3bc40>"
      ],
      "image/svg+xml": "<?xml version=\"1.0\" encoding=\"UTF-8\" standalone=\"no\"?>\r\n<!DOCTYPE svg PUBLIC \"-//W3C//DTD SVG 1.1//EN\"\r\n \"http://www.w3.org/Graphics/SVG/1.1/DTD/svg11.dtd\">\r\n<!-- Generated by graphviz version 2.47.1 (0)\r\n -->\r\n<!-- Pages: 1 -->\r\n<svg width=\"472pt\" height=\"555pt\"\r\n viewBox=\"0.00 0.00 472.12 554.81\" xmlns=\"http://www.w3.org/2000/svg\" xmlns:xlink=\"http://www.w3.org/1999/xlink\">\r\n<g id=\"graph0\" class=\"graph\" transform=\"scale(1 1) rotate(0) translate(4 550.81)\">\r\n<polygon fill=\"white\" stroke=\"transparent\" points=\"-4,4 -4,-550.81 468.12,-550.81 468.12,4 -4,4\"/>\r\n<g id=\"clust1\" class=\"cluster\">\r\n<title>cluster150</title>\r\n<path fill=\"none\" stroke=\"black\" d=\"M162,-129.95C162,-129.95 238,-129.95 238,-129.95 244,-129.95 250,-135.95 250,-141.95 250,-141.95 250,-231.91 250,-231.91 250,-237.91 244,-243.91 238,-243.91 238,-243.91 162,-243.91 162,-243.91 156,-243.91 150,-237.91 150,-231.91 150,-231.91 150,-141.95 150,-141.95 150,-135.95 156,-129.95 162,-129.95\"/>\r\n<text text-anchor=\"middle\" x=\"231.5\" y=\"-137.75\" font-family=\"Times New Roman,serif\" font-size=\"14.00\">150</text>\r\n</g>\r\n<g id=\"clust2\" class=\"cluster\">\r\n<title>cluster160</title>\r\n<path fill=\"none\" stroke=\"black\" d=\"M232,-8C232,-8 308,-8 308,-8 314,-8 320,-14 320,-20 320,-20 320,-109.95 320,-109.95 320,-115.95 314,-121.95 308,-121.95 308,-121.95 232,-121.95 232,-121.95 226,-121.95 220,-115.95 220,-109.95 220,-109.95 220,-20 220,-20 220,-14 226,-8 232,-8\"/>\r\n<text text-anchor=\"middle\" x=\"301.5\" y=\"-15.8\" font-family=\"Times New Roman,serif\" font-size=\"14.00\">160</text>\r\n</g>\r\n<!-- tau -->\r\n<g id=\"node1\" class=\"node\">\r\n<title>tau</title>\r\n<polygon fill=\"none\" stroke=\"black\" points=\"140.5,-424.88 49.5,-424.88 49.5,-371.88 140.5,-371.88 140.5,-424.88\"/>\r\n<text text-anchor=\"middle\" x=\"95\" y=\"-409.68\" font-family=\"Times New Roman,serif\" font-size=\"14.00\">tau</text>\r\n<text text-anchor=\"middle\" x=\"95\" y=\"-394.68\" font-family=\"Times New Roman,serif\" font-size=\"14.00\">~</text>\r\n<text text-anchor=\"middle\" x=\"95\" y=\"-379.68\" font-family=\"Times New Roman,serif\" font-size=\"14.00\">Deterministic</text>\r\n</g>\r\n<!-- lg_alpha -->\r\n<g id=\"node6\" class=\"node\">\r\n<title>lg_alpha</title>\r\n<polygon fill=\"none\" stroke=\"black\" points=\"241.5,-324.91 150.5,-324.91 150.5,-271.91 241.5,-271.91 241.5,-324.91\"/>\r\n<text text-anchor=\"middle\" x=\"196\" y=\"-309.71\" font-family=\"Times New Roman,serif\" font-size=\"14.00\">lg_alpha</text>\r\n<text text-anchor=\"middle\" x=\"196\" y=\"-294.71\" font-family=\"Times New Roman,serif\" font-size=\"14.00\">~</text>\r\n<text text-anchor=\"middle\" x=\"196\" y=\"-279.71\" font-family=\"Times New Roman,serif\" font-size=\"14.00\">Deterministic</text>\r\n</g>\r\n<!-- tau&#45;&gt;lg_alpha -->\r\n<g id=\"edge2\" class=\"edge\">\r\n<title>tau&#45;&gt;lg_alpha</title>\r\n<path fill=\"none\" stroke=\"black\" d=\"M121.54,-371.64C134.07,-359.49 149.15,-344.86 162.46,-331.95\"/>\r\n<polygon fill=\"black\" stroke=\"black\" points=\"164.9,-334.45 169.64,-324.98 160.03,-329.43 164.9,-334.45\"/>\r\n</g>\r\n<!-- V0 -->\r\n<g id=\"node2\" class=\"node\">\r\n<title>V0</title>\r\n<ellipse fill=\"none\" stroke=\"black\" cx=\"70\" cy=\"-198.43\" rx=\"70.01\" ry=\"37.45\"/>\r\n<text text-anchor=\"middle\" x=\"70\" y=\"-209.73\" font-family=\"Times New Roman,serif\" font-size=\"14.00\">V0</text>\r\n<text text-anchor=\"middle\" x=\"70\" y=\"-194.73\" font-family=\"Times New Roman,serif\" font-size=\"14.00\">~</text>\r\n<text text-anchor=\"middle\" x=\"70\" y=\"-179.73\" font-family=\"Times New Roman,serif\" font-size=\"14.00\">Bound&#45;Normal</text>\r\n</g>\r\n<!-- V -->\r\n<g id=\"node9\" class=\"node\">\r\n<title>V</title>\r\n<ellipse fill=\"lightgrey\" stroke=\"black\" cx=\"270\" cy=\"-76.48\" rx=\"41.94\" ry=\"37.45\"/>\r\n<text text-anchor=\"middle\" x=\"270\" y=\"-87.78\" font-family=\"Times New Roman,serif\" font-size=\"14.00\">V</text>\r\n<text text-anchor=\"middle\" x=\"270\" y=\"-72.78\" font-family=\"Times New Roman,serif\" font-size=\"14.00\">~</text>\r\n<text text-anchor=\"middle\" x=\"270\" y=\"-57.78\" font-family=\"Times New Roman,serif\" font-size=\"14.00\">Normal</text>\r\n</g>\r\n<!-- V0&#45;&gt;V -->\r\n<g id=\"edge6\" class=\"edge\">\r\n<title>V0&#45;&gt;V</title>\r\n<path fill=\"none\" stroke=\"black\" d=\"M101.78,-165.02C114.74,-152.97 130.34,-139.84 146,-129.95 169.46,-115.14 197.81,-102.79 221.48,-93.8\"/>\r\n<polygon fill=\"black\" stroke=\"black\" points=\"222.81,-97.03 230.97,-90.27 220.38,-90.47 222.81,-97.03\"/>\r\n</g>\r\n<!-- delta -->\r\n<g id=\"node3\" class=\"node\">\r\n<title>delta</title>\r\n<ellipse fill=\"none\" stroke=\"black\" cx=\"200\" cy=\"-398.38\" rx=\"41.94\" ry=\"37.45\"/>\r\n<text text-anchor=\"middle\" x=\"200\" y=\"-409.68\" font-family=\"Times New Roman,serif\" font-size=\"14.00\">delta</text>\r\n<text text-anchor=\"middle\" x=\"200\" y=\"-394.68\" font-family=\"Times New Roman,serif\" font-size=\"14.00\">~</text>\r\n<text text-anchor=\"middle\" x=\"200\" y=\"-379.68\" font-family=\"Times New Roman,serif\" font-size=\"14.00\">Normal</text>\r\n</g>\r\n<!-- delta&#45;&gt;lg_alpha -->\r\n<g id=\"edge3\" class=\"edge\">\r\n<title>delta&#45;&gt;lg_alpha</title>\r\n<path fill=\"none\" stroke=\"black\" d=\"M198.51,-360.9C198.17,-352.48 197.81,-343.54 197.46,-335.16\"/>\r\n<polygon fill=\"black\" stroke=\"black\" points=\"200.95,-334.77 197.05,-324.92 193.96,-335.05 200.95,-334.77\"/>\r\n</g>\r\n<!-- sigma -->\r\n<g id=\"node4\" class=\"node\">\r\n<title>sigma</title>\r\n<ellipse fill=\"none\" stroke=\"black\" cx=\"182\" cy=\"-509.34\" rx=\"43.27\" ry=\"37.45\"/>\r\n<text text-anchor=\"middle\" x=\"182\" y=\"-520.64\" font-family=\"Times New Roman,serif\" font-size=\"14.00\">sigma</text>\r\n<text text-anchor=\"middle\" x=\"182\" y=\"-505.64\" font-family=\"Times New Roman,serif\" font-size=\"14.00\">~</text>\r\n<text text-anchor=\"middle\" x=\"182\" y=\"-490.64\" font-family=\"Times New Roman,serif\" font-size=\"14.00\">Gamma</text>\r\n</g>\r\n<!-- sigma&#45;&gt;tau -->\r\n<g id=\"edge1\" class=\"edge\">\r\n<title>sigma&#45;&gt;tau</title>\r\n<path fill=\"none\" stroke=\"black\" d=\"M157.77,-477.99C146.67,-464.09 133.48,-447.57 122.06,-433.27\"/>\r\n<polygon fill=\"black\" stroke=\"black\" points=\"124.55,-430.77 115.57,-425.14 119.08,-435.14 124.55,-430.77\"/>\r\n</g>\r\n<!-- sigma&#45;&gt;V -->\r\n<g id=\"edge7\" class=\"edge\">\r\n<title>sigma&#45;&gt;V</title>\r\n<path fill=\"none\" stroke=\"black\" d=\"M213.82,-483.95C227.86,-471.27 242.96,-454.53 251,-435.86 295.86,-331.77 286.56,-194.65 277.42,-124\"/>\r\n<polygon fill=\"black\" stroke=\"black\" points=\"280.83,-123.1 276.02,-113.66 273.9,-124.04 280.83,-123.1\"/>\r\n</g>\r\n<!-- k -->\r\n<g id=\"node5\" class=\"node\">\r\n<title>k</title>\r\n<ellipse fill=\"none\" stroke=\"black\" cx=\"341\" cy=\"-198.43\" rx=\"43.27\" ry=\"37.45\"/>\r\n<text text-anchor=\"middle\" x=\"341\" y=\"-209.73\" font-family=\"Times New Roman,serif\" font-size=\"14.00\">k</text>\r\n<text text-anchor=\"middle\" x=\"341\" y=\"-194.73\" font-family=\"Times New Roman,serif\" font-size=\"14.00\">~</text>\r\n<text text-anchor=\"middle\" x=\"341\" y=\"-179.73\" font-family=\"Times New Roman,serif\" font-size=\"14.00\">Gamma</text>\r\n</g>\r\n<!-- k&#45;&gt;V -->\r\n<g id=\"edge8\" class=\"edge\">\r\n<title>k&#45;&gt;V</title>\r\n<path fill=\"none\" stroke=\"black\" d=\"M321.6,-164.65C313.16,-150.39 303.17,-133.52 294.25,-118.44\"/>\r\n<polygon fill=\"black\" stroke=\"black\" points=\"297.24,-116.62 289.14,-109.8 291.22,-120.19 297.24,-116.62\"/>\r\n</g>\r\n<!-- P -->\r\n<g id=\"node8\" class=\"node\">\r\n<title>P</title>\r\n<ellipse fill=\"none\" stroke=\"black\" cx=\"200\" cy=\"-198.43\" rx=\"41.94\" ry=\"37.45\"/>\r\n<text text-anchor=\"middle\" x=\"200\" y=\"-209.73\" font-family=\"Times New Roman,serif\" font-size=\"14.00\">P</text>\r\n<text text-anchor=\"middle\" x=\"200\" y=\"-194.73\" font-family=\"Times New Roman,serif\" font-size=\"14.00\">~</text>\r\n<text text-anchor=\"middle\" x=\"200\" y=\"-179.73\" font-family=\"Times New Roman,serif\" font-size=\"14.00\">Normal</text>\r\n</g>\r\n<!-- lg_alpha&#45;&gt;P -->\r\n<g id=\"edge4\" class=\"edge\">\r\n<title>lg_alpha&#45;&gt;P</title>\r\n<path fill=\"none\" stroke=\"black\" d=\"M197.05,-271.66C197.37,-263.84 197.74,-254.99 198.09,-246.23\"/>\r\n<polygon fill=\"black\" stroke=\"black\" points=\"201.6,-246.19 198.51,-236.05 194.6,-245.9 201.6,-246.19\"/>\r\n</g>\r\n<!-- lamb -->\r\n<g id=\"node7\" class=\"node\">\r\n<title>lamb</title>\r\n<ellipse fill=\"none\" stroke=\"black\" cx=\"433\" cy=\"-198.43\" rx=\"31.23\" ry=\"37.45\"/>\r\n<text text-anchor=\"middle\" x=\"433\" y=\"-209.73\" font-family=\"Times New Roman,serif\" font-size=\"14.00\">lamb</text>\r\n<text text-anchor=\"middle\" x=\"433\" y=\"-194.73\" font-family=\"Times New Roman,serif\" font-size=\"14.00\">~</text>\r\n<text text-anchor=\"middle\" x=\"433\" y=\"-179.73\" font-family=\"Times New Roman,serif\" font-size=\"14.00\">Beta</text>\r\n</g>\r\n<!-- lamb&#45;&gt;V -->\r\n<g id=\"edge9\" class=\"edge\">\r\n<title>lamb&#45;&gt;V</title>\r\n<path fill=\"none\" stroke=\"black\" d=\"M419.08,-164.88C412.59,-152.67 403.86,-139.47 393,-129.95 372.13,-111.67 343.93,-99.02 319.8,-90.72\"/>\r\n<polygon fill=\"black\" stroke=\"black\" points=\"320.68,-87.33 310.09,-87.54 318.5,-93.98 320.68,-87.33\"/>\r\n</g>\r\n<!-- P&#45;&gt;V -->\r\n<g id=\"edge5\" class=\"edge\">\r\n<title>P&#45;&gt;V</title>\r\n<path fill=\"none\" stroke=\"black\" d=\"M218.95,-164.97C227.27,-150.7 237.15,-133.78 245.98,-118.64\"/>\r\n<polygon fill=\"black\" stroke=\"black\" points=\"249.03,-120.36 251.05,-109.96 242.98,-116.84 249.03,-120.36\"/>\r\n</g>\r\n</g>\r\n</svg>\r\n"
     },
     "metadata": {},
     "execution_count": 6
    }
   ],
   "source": [
    "with pm.Model() as model:\n",
    "    # Noise --------------------------------------------------------------\n",
    "    sigma = pm.Gamma('sigma', alpha=0.7, beta=2)\n",
    "    tau = pm.Deterministic('tau',1/(sigma**2))\n",
    "\n",
    "    # Regularization parameter -------------------------------------------\n",
    "    delta = pm.Normal('delta', mu = 20000, sigma = 10000)\n",
    "    lg_alpha = pm.Deterministic('lg_alpha', np.log10(np.sqrt(delta/tau)) )\n",
    "    \n",
    "    # Time Domain --------------------------------------------------------\n",
    "    lamb = pm.Beta('lamb', alpha=1.3, beta=2.0)\n",
    "    V0 = pm.Bound(pm.Normal, lower=0.0)('V0', mu=1, sigma=0.2)\n",
    "\n",
    "    # Background ---------------------------------------------------------\n",
    "    k = pm.Gamma('k', alpha=0.5, beta=2)\n",
    "    B = dl.bg_exp(t, k)\n",
    "\n",
    "    # Distance distribution ----------------------------------------------\n",
    "    # P = pm.MvNormal(\"P\", mu = np.ones_like(r), tau = invSigma, shape = len(r))\n",
    "    P = pm.Normal(\"P\", mu = 1, sigma = lg_alpha, shape = len(r))      \n",
    "\n",
    "    # Calculate matrices and operators -----------------------------------\n",
    "    Kintra = (1-lamb) + lamb*K0\n",
    "    B_ = T.transpose( T.tile(B,(len(r),1)) )\n",
    "    K = V0*Kintra*B_*dr\n",
    "\n",
    "    # Time domain model ---------------------------------------------------\n",
    "    Vmodel = pm.math.dot(K,P)\n",
    "\n",
    "    # Likelihood ----------------------------------------------------------\n",
    "    pm.Normal('V',mu = Vmodel, sigma = sigma, observed = Vexp)\n",
    "\n",
    "pm.model_to_graphviz(model) "
   ]
  },
  {
   "cell_type": "markdown",
   "metadata": {},
   "source": [
    "### Run sampler"
   ]
  },
  {
   "cell_type": "code",
   "execution_count": 21,
   "metadata": {},
   "outputs": [],
   "source": [
    "from pymc3.step_methods.arraystep import BlockedStep\n",
    "import pymc3 as pm\n",
    "import scipy as sp\n",
    "from pymc3.distributions.transforms import log\n",
    "\n",
    "class SamplePfromV_print(BlockedStep):\n",
    "    def __init__(self, var, K0, LtL, t, V, r, delta, sigma, k, lamb, V0):\n",
    "            self.vars = [var]\n",
    "            self.var = var\n",
    "            \n",
    "            # precalculated values\n",
    "            self.K0 = K0\n",
    "            self.LtL = LtL\n",
    "            self.V = V\n",
    "            self.r = r\n",
    "            self.t = t\n",
    "\n",
    "            # random variables\n",
    "            self.delta = delta\n",
    "            self.sigma = sigma\n",
    "            self.k = k\n",
    "            self.lamb = lamb\n",
    "            self.V0 = V0    \n",
    "\n",
    "    def step(self, point: dict):\n",
    "        print('Step P    : k: ' + str(np.exp(point['k_log__'])) + ' V0 ' + str(np.exp(point['V0_lowerbound__'])) + ' l ' + str(sp.special.expit(point['lamb_logodds__'])) + ' s ' + str(np.exp(point['sigma_log__'])) + ' d ' + str(point['delta']) + ' P[0] ' + str(point['P'][0]))\n",
    "        # transform parameters\n",
    "        sigma = dive.undo_transform(point,self.sigma.transformed.name)\n",
    "        # delta = undo_transform(point,self.delta.transformed.name)\n",
    "        delta = dive.undo_transform(point,self.delta.name)\n",
    "        k = dive.undo_transform(point,self.k.transformed.name)\n",
    "        lamb = dive.undo_transform(point,self.lamb.transformed.name)\n",
    "        V0 = dive.undo_transform(point,self.V0.transformed.name)        \n",
    "\n",
    "        # calculate some values\n",
    "        tau = 1/(sigma**2)\n",
    "        dr = self.r[1] - self.r[0]\n",
    "\n",
    "        # Background\n",
    "        B = dl.bg_exp(self.t,k) \n",
    "\n",
    "        # Kernel\n",
    "        Kintra = (1-lamb)+lamb*self.K0\n",
    "        K = Kintra * B[:, np.newaxis]\n",
    "        K = V0*K*dr\n",
    "\n",
    "        # KtXs\n",
    "        KtK = np.matmul(np.transpose(K),K)\n",
    "        KtV = np.matmul(np.transpose(K),self.V) \n",
    "\n",
    "        tauKtV = tau*KtV\n",
    "        invSigma = tau*KtK + delta*self.LtL\n",
    "        \n",
    "        newpoint = point.copy()\n",
    "        Pdraw = dive.randP(tauKtV,invSigma)\n",
    "        Pdraw =  Pdraw / np.sum(Pdraw) / dr\n",
    "        newpoint[self.var.name] = Pdraw\n",
    "\n",
    "        return newpoint\n",
    "\n",
    "class randDelta_print(BlockedStep):\n",
    "    def __init__(self, var, a0, b0, L, P):\n",
    "            self.vars = [var]\n",
    "            self.var = var\n",
    "            self.P = P\n",
    "            self.a0 = a0\n",
    "            self.b0 = b0\n",
    "            self.L = L\n",
    "\n",
    "    def step(self, point: dict):\n",
    "        print('Step delta: k: ' + str(np.exp(point['k_log__'])) + ' V0 ' + str(np.exp(point['V0_lowerbound__'])) + ' l ' + str(sp.special.expit(point['lamb_logodds__'])) + ' s ' + str(np.exp(point['sigma_log__'])) + ' d ' + str(point['delta']) + ' P[0] ' + str(point['P'][0]))\n",
    "        P = point[self.P.name]\n",
    "\n",
    "        n_p = sum(np.asarray(P)>0)\n",
    "        a_ = self.a0 + n_p/2\n",
    "        b_ = self.b0 + (1/2)*np.linalg.norm(self.L@P)**2\n",
    "\n",
    "        newpoint = point.copy()\n",
    "        delta_draw =  np.random.gamma(a_, 1/b_, 1)[0]\n",
    "        newpoint[self.var.name] = delta_draw\n",
    "\n",
    "        return newpoint"
   ]
  },
  {
   "cell_type": "code",
   "execution_count": 22,
   "metadata": {},
   "outputs": [
    {
     "output_type": "stream",
     "name": "stdout",
     "text": [
      "Initial values: k: 0.25 V0 1.0 l 0.393939393939394 s 0.3499999999999999 d 20000.0 P[0] 1.0\n"
     ]
    }
   ],
   "source": [
    "point = model.test_point\n",
    "print('Initial values: k: ' + str(np.exp(point['k_log__'])) + ' V0 ' + str(np.exp(point['V0_lowerbound__'])) + ' l ' + str(sp.special.expit(point['lamb_logodds__'])) + ' s ' + str(np.exp(point['sigma_log__'])) + ' d ' + str(point['delta']) + ' P[0] ' + str(point['P'][0]))"
   ]
  },
  {
   "cell_type": "code",
   "execution_count": 24,
   "metadata": {
    "tags": []
   },
   "outputs": [
    {
     "output_type": "stream",
     "name": "stderr",
     "text": [
      "Only 20 samples in chain.\n",
      "Sequential sampling (1 chains in 1 job)\n",
      "CompoundStep\n",
      ">SamplePfromV_print: [P]\n",
      ">randDelta_print: [delta]\n",
      ">NUTS: [k, V0, lamb, sigma]\n",
      "Step P    : k: 0.25 V0 1.0 l 0.393939393939394 s 0.3499999999999999 d 20000.0 P[0] 1.0\n",
      "Step delta: k: 0.25 V0 1.0 l 0.393939393939394 s 0.3499999999999999 d 20000.0 P[0] 0.0023015732443038327\n",
      "Step P    : k: 0.25 V0 1.0 l 0.393939393939394 s 0.3499999999999999 d 14807.78878241502 P[0] 0.0023015732443038327\n",
      "Step delta: k: 0.25 V0 1.0 l 0.393939393939394 s 0.3499999999999999 d 14807.78878241502 P[0] 0.011927641282282955\n",
      "Step P    : k: 0.25 V0 1.0 l 0.393939393939394 s 0.3499999999999999 d 12024.774524566968 P[0] 0.011927641282282955\n",
      "Step delta: k: 0.25 V0 1.0 l 0.393939393939394 s 0.3499999999999999 d 12024.774524566968 P[0] 0.0\n",
      "Step P    : k: 0.2679374696698308 V0 1.0054854559856263 l 0.396976005587851 s 0.31801980350690723 d 11743.121796658674 P[0] 0.0\n",
      "Step delta: k: 0.2679374696698308 V0 1.0054854559856263 l 0.396976005587851 s 0.31801980350690723 d 11743.121796658674 P[0] 0.0497378012353189\n",
      "Step P    : k: 0.2744477748312702 V0 0.9495774183079093 l 0.38807082311899005 s 0.29173806008514536 d 5289.217543498357 P[0] 0.0497378012353189\n",
      "Step delta: k: 0.2744477748312702 V0 0.9495774183079093 l 0.38807082311899005 s 0.29173806008514536 d 5289.217543498357 P[0] 0.027190120296487215\n",
      "Step P    : k: 0.27592860196375313 V0 0.8010643929438681 l 0.3983753521317267 s 0.20716904770451572 d 4444.0579935933365 P[0] 0.027190120296487215\n",
      "Step delta: k: 0.27592860196375313 V0 0.8010643929438681 l 0.3983753521317267 s 0.20716904770451572 d 4444.0579935933365 P[0] 0.00933069223240995\n",
      "Step P    : k: 0.29029766783056815 V0 0.846579824614381 l 0.40710311466551236 s 0.1657491659216378 d 4866.192385065607 P[0] 0.00933069223240995\n",
      "Step delta: k: 0.29029766783056815 V0 0.846579824614381 l 0.40710311466551236 s 0.1657491659216378 d 4866.192385065607 P[0] 0.0\n",
      "Step P    : k: 0.29029766783056815 V0 0.846579824614381 l 0.40710311466551236 s 0.1657491659216378 d 6435.125155184567 P[0] 0.0\n",
      "Step delta: k: 0.29029766783056815 V0 0.846579824614381 l 0.40710311466551236 s 0.1657491659216378 d 6435.125155184567 P[0] 0.00949600418757617\n",
      "Step P    : k: 0.31626285710156665 V0 0.8836848398317192 l 0.4114728917598134 s 0.15697654319808882 d 6686.045876821549 P[0] 0.00949600418757617\n",
      "Step delta: k: 0.31626285710156665 V0 0.8836848398317192 l 0.4114728917598134 s 0.15697654319808882 d 6686.045876821549 P[0] 0.00588785172835846\n",
      "Step P    : k: 0.44286540286365095 V0 0.9544943965857876 l 0.40804313428427275 s 0.08688727049709137 d 8016.845996840249 P[0] 0.00588785172835846\n",
      "Step delta: k: 0.44286540286365095 V0 0.9544943965857876 l 0.40804313428427275 s 0.08688727049709137 d 8016.845996840249 P[0] 0.002649953564308144\n",
      "Step P    : k: 0.7069003820879811 V0 1.2080879459303289 l 0.4191201906456586 s 0.04407883843129232 d 10093.060927587308 P[0] 0.002649953564308144\n",
      "Step delta: k: 0.7069003820879811 V0 1.2080879459303289 l 0.4191201906456586 s 0.04407883843129232 d 10093.060927587308 P[0] 0.014140492427676319\n",
      "Step P    : k: 0.7069003820879811 V0 1.2080879459303289 l 0.4191201906456586 s 0.04407883843129232 d 12704.314166631586 P[0] 0.014140492427676319\n",
      "Step delta: k: 0.7069003820879811 V0 1.2080879459303289 l 0.4191201906456586 s 0.04407883843129232 d 12704.314166631586 P[0] 0.01082636894843167\n",
      "Step P    : k: 0.6117431310223993 V0 1.1327725518982228 l 0.4206439273582283 s 0.04603966457492934 d 10893.643826029464 P[0] 0.01082636894843167\n",
      "Step delta: k: 0.6117431310223993 V0 1.1327725518982228 l 0.4206439273582283 s 0.04603966457492934 d 10893.643826029464 P[0] 0.006746280593529586\n",
      "Step P    : k: 0.6117431310223993 V0 1.1327725518982228 l 0.4206439273582283 s 0.04603966457492934 d 11150.929506180844 P[0] 0.006746280593529586\n",
      "Step delta: k: 0.6117431310223993 V0 1.1327725518982228 l 0.4206439273582283 s 0.04603966457492934 d 11150.929506180844 P[0] 0.0\n",
      "Step P    : k: 0.6117431310223993 V0 1.1327725518982228 l 0.4206439273582283 s 0.04603966457492934 d 9473.0330213073 P[0] 0.0\n",
      "Step delta: k: 0.6117431310223993 V0 1.1327725518982228 l 0.4206439273582283 s 0.04603966457492934 d 9473.0330213073 P[0] 0.0\n",
      "Step P    : k: 0.6117431310223993 V0 1.1327725518982228 l 0.4206439273582283 s 0.04603966457492934 d 8846.285843400592 P[0] 0.0\n",
      "Step delta: k: 0.6117431310223993 V0 1.1327725518982228 l 0.4206439273582283 s 0.04603966457492934 d 8846.285843400592 P[0] 0.0020253726644692566\n",
      "Step P    : k: 0.6117431310223993 V0 1.1327725518982228 l 0.4206439273582283 s 0.04603966457492934 d 6672.293382170648 P[0] 0.0020253726644692566\n",
      "Step delta: k: 0.6117431310223993 V0 1.1327725518982228 l 0.4206439273582283 s 0.04603966457492934 d 6672.293382170648 P[0] 0.017857816323154217\n",
      "Step P    : k: 0.6117431310223993 V0 1.1327725518982228 l 0.4206439273582283 s 0.04603966457492934 d 6854.173710459984 P[0] 0.017857816323154217\n",
      "Step delta: k: 0.6117431310223993 V0 1.1327725518982228 l 0.4206439273582283 s 0.04603966457492934 d 6854.173710459984 P[0] 0.018809972903109703\n",
      "Step P    : k: 0.6117431310223993 V0 1.1327725518982228 l 0.4206439273582283 s 0.04603966457492934 d 5559.58476295382 P[0] 0.018809972903109703\n",
      "Step delta: k: 0.6117431310223993 V0 1.1327725518982228 l 0.4206439273582283 s 0.04603966457492934 d 5559.58476295382 P[0] 0.010476745127084625\n",
      "Step P    : k: 0.5901045467630274 V0 1.123281512887923 l 0.4193156371881324 s 0.0492184121651267 d 5456.85347930883 P[0] 0.010476745127084625\n",
      "Step delta: k: 0.5901045467630274 V0 1.123281512887923 l 0.4193156371881324 s 0.0492184121651267 d 5456.85347930883 P[0] 0.0010558495544667399\n",
      "Step P    : k: 0.5930743979671662 V0 1.1403201998992814 l 0.43221263759259343 s 0.048969598194225326 d 5766.384122970206 P[0] 0.0010558495544667399\n",
      "Step delta: k: 0.5930743979671662 V0 1.1403201998992814 l 0.43221263759259343 s 0.048969598194225326 d 5766.384122970206 P[0] 0.01867889455682749\n",
      "Step P    : k: 0.5930743979671662 V0 1.1403201998992814 l 0.43221263759259343 s 0.048969598194225326 d 6249.955305906504 P[0] 0.01867889455682749\n",
      "Step delta: k: 0.5930743979671662 V0 1.1403201998992814 l 0.43221263759259343 s 0.048969598194225326 d 6249.955305906504 P[0] 0.00587179821068341\n",
      "Step P    : k: 0.5930743979671662 V0 1.1403201998992814 l 0.43221263759259343 s 0.048969598194225326 d 5440.28039472022 P[0] 0.00587179821068341\n",
      "Step delta: k: 0.5930743979671662 V0 1.1403201998992814 l 0.43221263759259343 s 0.048969598194225326 d 5440.28039472022 P[0] 0.00675018229267103\n",
      "Step P    : k: 0.601590306023865 V0 1.1490025572137401 l 0.44226684641281855 s 0.04984790463769792 d 6705.666190966342 P[0] 0.00675018229267103\n",
      "Step delta: k: 0.601590306023865 V0 1.1490025572137401 l 0.44226684641281855 s 0.04984790463769792 d 6705.666190966342 P[0] 0.0\n",
      "Step P    : k: 0.601590306023865 V0 1.1490025572137401 l 0.44226684641281855 s 0.04984790463769792 d 7851.91659137691 P[0] 0.0\n",
      "Step delta: k: 0.601590306023865 V0 1.1490025572137401 l 0.44226684641281855 s 0.04984790463769792 d 7851.91659137691 P[0] 0.008767620394439997\n",
      "Step P    : k: 0.601590306023865 V0 1.1490025572137401 l 0.44226684641281855 s 0.04984790463769792 d 7907.26049963234 P[0] 0.008767620394439997\n",
      "Step delta: k: 0.601590306023865 V0 1.1490025572137401 l 0.44226684641281855 s 0.04984790463769792 d 7907.26049963234 P[0] 0.01241634099713083\n",
      "Step P    : k: 0.601590306023865 V0 1.1490025572137401 l 0.44226684641281855 s 0.04984790463769792 d 8239.073934777212 P[0] 0.01241634099713083\n",
      "Step delta: k: 0.601590306023865 V0 1.1490025572137401 l 0.44226684641281855 s 0.04984790463769792 d 8239.073934777212 P[0] 0.0005733732738650631\n",
      "Step P    : k: 0.601590306023865 V0 1.1490025572137401 l 0.44226684641281855 s 0.04984790463769792 d 9056.987460089356 P[0] 0.0005733732738650631\n",
      "Step delta: k: 0.601590306023865 V0 1.1490025572137401 l 0.44226684641281855 s 0.04984790463769792 d 9056.987460089356 P[0] 0.02868155712666893\n",
      "Step P    : k: 0.601590306023865 V0 1.1490025572137401 l 0.44226684641281855 s 0.04984790463769792 d 8339.545445578533 P[0] 0.02868155712666893\n",
      "Step delta: k: 0.601590306023865 V0 1.1490025572137401 l 0.44226684641281855 s 0.04984790463769792 d 8339.545445578533 P[0] 0.02140997524502421\n",
      "Step P    : k: 0.601590306023865 V0 1.1490025572137401 l 0.44226684641281855 s 0.04984790463769792 d 10618.205917768546 P[0] 0.02140997524502421\n",
      "Step delta: k: 0.601590306023865 V0 1.1490025572137401 l 0.44226684641281855 s 0.04984790463769792 d 10618.205917768546 P[0] 0.005956713178633734\n",
      "Sampling 1 chain for 10 tune and 20 draw iterations (10 + 20 draws total) took 2 seconds.\n",
      "There were 6 divergences after tuning. Increase `target_accept` or reparameterize.\n",
      "The acceptance probability does not match the target. It is 0.24017769479174306, but should be close to 0.8. Try to increase the number of tuning steps.\n"
     ]
    }
   ],
   "source": [
    "with model:\n",
    "    step_P = SamplePfromV_print(P, K0, LtL, t, Vexp, r, delta, sigma, k, lamb, V0)\n",
    "    step_delta = randDelta_print(delta, a0, b0, L, P)\n",
    "    trace = pm.sample(step = [step_P, step_delta], chains=1, cores=1, draws=20, tune= 10, return_inferencedata=False, progressbar = False)"
   ]
  },
  {
   "cell_type": "code",
   "execution_count": 25,
   "metadata": {},
   "outputs": [
    {
     "output_type": "stream",
     "name": "stderr",
     "text": [
      "Only 10 samples in chain.\n",
      "Sequential sampling (1 chains in 1 job)\n",
      "CompoundStep\n",
      ">randDelta_print: [delta]\n",
      ">SamplePfromV_print: [P]\n",
      ">NUTS: [k, V0, lamb, sigma]\n",
      "Step delta: k: 0.25 V0 1.0 l 0.393939393939394 s 0.3499999999999999 d 20000.0 P[0] 1.0\n",
      "Step P    : k: 0.25 V0 1.0 l 0.393939393939394 s 0.3499999999999999 d 66.25939195821665 P[0] 1.0\n",
      "Step delta: k: 0.25 V0 1.0 l 0.393939393939394 s 0.3499999999999999 d 66.25939195821665 P[0] 0.02058538757435892\n",
      "Step P    : k: 0.25 V0 1.0 l 0.393939393939394 s 0.3499999999999999 d 43.65961340141985 P[0] 0.02058538757435892\n",
      "Step delta: k: 0.25 V0 1.0 l 0.393939393939394 s 0.3499999999999999 d 43.65961340141985 P[0] 0.01168376839389441\n",
      "Step P    : k: 0.25 V0 1.0 l 0.393939393939394 s 0.3499999999999999 d 26.28697474653951 P[0] 0.01168376839389441\n",
      "Step delta: k: 0.25 V0 1.0 l 0.393939393939394 s 0.3499999999999999 d 26.28697474653951 P[0] 0.0\n",
      "Step P    : k: 0.25 V0 1.0 l 0.393939393939394 s 0.3499999999999999 d 23.780728848116233 P[0] 0.0\n",
      "Step delta: k: 0.2506315606761632 V0 1.0007521518562454 l 0.3949883099597522 s 0.3541104758448655 d 23.780728848116233 P[0] 0.29252946115156364\n",
      "Step P    : k: 0.2506315606761632 V0 1.0007521518562454 l 0.3949883099597522 s 0.3541104758448655 d 21.421654512697543 P[0] 0.29252946115156364\n",
      "Step delta: k: 0.25418439548118926 V0 1.0135256430836015 l 0.39712733374062664 s 0.4629262121933499 d 21.421654512697543 P[0] 0.06447053905013538\n",
      "Step P    : k: 0.25418439548118926 V0 1.0135256430836015 l 0.39712733374062664 s 0.4629262121933499 d 19.405665550226853 P[0] 0.06447053905013538\n",
      "Step delta: k: 0.26449430069191987 V0 1.0171677359409976 l 0.3928389803207773 s 0.49956233523355664 d 19.405665550226853 P[0] 0.3183632584100307\n",
      "Step P    : k: 0.26449430069191987 V0 1.0171677359409976 l 0.3928389803207773 s 0.49956233523355664 d 14.460876695126165 P[0] 0.3183632584100307\n",
      "Step delta: k: 0.26761250206301024 V0 1.0273933020009092 l 0.3878734845164065 s 0.5738709047331589 d 14.460876695126165 P[0] 0.2644141753437221\n",
      "Step P    : k: 0.26761250206301024 V0 1.0273933020009092 l 0.3878734845164065 s 0.5738709047331589 d 10.057591924693975 P[0] 0.2644141753437221\n",
      "Step delta: k: 0.2697226332485967 V0 1.0268497927277045 l 0.3878065300026703 s 0.6474655586708075 d 10.057591924693975 P[0] 0.2610281522755963\n",
      "Step P    : k: 0.2697226332485967 V0 1.0268497927277045 l 0.3878065300026703 s 0.6474655586708075 d 5.163188925079091 P[0] 0.2610281522755963\n",
      "Step delta: k: 0.2697226332485967 V0 1.0268497927277045 l 0.3878065300026703 s 0.6474655586708075 d 5.163188925079091 P[0] 0.0\n",
      "Step P    : k: 0.2697226332485967 V0 1.0268497927277045 l 0.3878065300026703 s 0.6474655586708075 d 5.667180763477624 P[0] 0.0\n",
      "Step delta: k: 0.27006131776842196 V0 1.0277542104212907 l 0.38816675786570776 s 0.6493576530906573 d 5.667180763477624 P[0] 0.0\n",
      "Step P    : k: 0.27006131776842196 V0 1.0277542104212907 l 0.38816675786570776 s 0.6493576530906573 d 5.232053636734709 P[0] 0.0\n",
      "Step delta: k: 0.269537406068908 V0 1.028819514160508 l 0.38854479716152435 s 0.7348843115301814 d 5.232053636734709 P[0] 0.0\n",
      "Step P    : k: 0.269537406068908 V0 1.028819514160508 l 0.38854479716152435 s 0.7348843115301814 d 3.7015308758195817 P[0] 0.0\n",
      "Step delta: k: 0.2718668440009177 V0 1.0266387904533691 l 0.38887602950907685 s 0.897589158916378 d 3.7015308758195817 P[0] 0.024903160163895353\n",
      "Step P    : k: 0.2718668440009177 V0 1.0266387904533691 l 0.38887602950907685 s 0.897589158916378 d 4.86618813427539 P[0] 0.024903160163895353\n",
      "Step delta: k: 0.2795274418566516 V0 0.9973563238796875 l 0.38941845714206175 s 1.1651304074587754 d 4.86618813427539 P[0] 0.6478100776723922\n",
      "Step P    : k: 0.2795274418566516 V0 0.9973563238796875 l 0.38941845714206175 s 1.1651304074587754 d 5.440765228198822 P[0] 0.6478100776723922\n",
      "Step delta: k: 0.27094306918974176 V0 0.9907151833755844 l 0.4028259106180344 s 1.406214934349783 d 5.440765228198822 P[0] 0.0\n",
      "Step P    : k: 0.27094306918974176 V0 0.9907151833755844 l 0.4028259106180344 s 1.406214934349783 d 11.041900872524502 P[0] 0.0\n",
      "Step delta: k: 0.2816127822092648 V0 1.0427475757869045 l 0.40292249309345707 s 1.30529939669531 d 11.041900872524502 P[0] 0.13223843820626005\n",
      "Step P    : k: 0.2816127822092648 V0 1.0427475757869045 l 0.40292249309345707 s 1.30529939669531 d 20.832092095538485 P[0] 0.13223843820626005\n",
      "Step delta: k: 0.2808762785146714 V0 1.0444287272084631 l 0.40545484537966037 s 1.2890615534597087 d 20.832092095538485 P[0] 0.15313231108242992\n",
      "Step P    : k: 0.2808762785146714 V0 1.0444287272084631 l 0.40545484537966037 s 1.2890615534597087 d 31.210835555259873 P[0] 0.15313231108242992\n",
      "Step delta: k: 0.2770174637059406 V0 1.0582593962533524 l 0.4096175511554307 s 1.2889422883454598 d 31.210835555259873 P[0] 0.0\n",
      "Step P    : k: 0.2770174637059406 V0 1.0582593962533524 l 0.4096175511554307 s 1.2889422883454598 d 22.344015642707255 P[0] 0.0\n",
      "Step delta: k: 0.24795339048661078 V0 1.0297341148479875 l 0.4014814762443952 s 1.2271173718864143 d 22.344015642707255 P[0] 0.0\n",
      "Step P    : k: 0.24795339048661078 V0 1.0297341148479875 l 0.4014814762443952 s 1.2271173718864143 d 24.890530131090788 P[0] 0.0\n",
      "Sampling 1 chain for 10 tune and 10 draw iterations (10 + 10 draws total) took 1 seconds.\n",
      "Step delta: k: 0.21104012458244076 V0 0.9256813017544137 l 0.4230479789750679 s 0.8885195149171496 d 24.890530131090788 P[0] 0.12740515810975975\n",
      "Step P    : k: 0.21104012458244076 V0 0.9256813017544137 l 0.4230479789750679 s 0.8885195149171496 d 27.586248601572677 P[0] 0.12740515810975975\n"
     ]
    }
   ],
   "source": [
    "with model:\n",
    "    step_P = SamplePfromV_print(P, K0, LtL, t, Vexp, r, delta, sigma, k, lamb, V0)\n",
    "    step_delta = randDelta_print(delta, a0, b0, L, P)\n",
    "    trace = pm.sample(step = [step_delta, step_P], chains=1, cores=1, draws=10, tune= 10, return_inferencedata=False, progressbar = False)"
   ]
  }
 ],
 "metadata": {
  "kernelspec": {
   "name": "python3",
   "display_name": "Python 3.8.8 64-bit ('pymc3': conda)"
  },
  "language_info": {
   "codemirror_mode": {
    "name": "ipython",
    "version": 3
   },
   "file_extension": ".py",
   "mimetype": "text/x-python",
   "name": "python",
   "nbconvert_exporter": "python",
   "pygments_lexer": "ipython3",
   "version": "3.8.8"
  },
  "interpreter": {
   "hash": "cf8c942e34727b2412024ae883da8f3a624142846b49407d8c5d643f0ffcb05c"
  }
 },
 "nbformat": 4,
 "nbformat_minor": 4
}