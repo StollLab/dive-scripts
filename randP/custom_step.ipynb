{
 "metadata": {
  "language_info": {
   "codemirror_mode": {
    "name": "ipython",
    "version": 3
   },
   "file_extension": ".py",
   "mimetype": "text/x-python",
   "name": "python",
   "nbconvert_exporter": "python",
   "pygments_lexer": "ipython3",
   "version": "3.8.5"
  },
  "orig_nbformat": 2,
  "kernelspec": {
   "name": "python3",
   "display_name": "Python 3.8.5 64-bit ('pymc3': conda)",
   "metadata": {
    "interpreter": {
     "hash": "cf8c942e34727b2412024ae883da8f3a624142846b49407d8c5d643f0ffcb05c"
    }
   }
  }
 },
 "nbformat": 4,
 "nbformat_minor": 2,
 "cells": [
  {
   "cell_type": "code",
   "execution_count": 2,
   "metadata": {},
   "outputs": [
    {
     "output_type": "stream",
     "name": "stdout",
     "text": [
      "The autoreload extension is already loaded. To reload it, use:\n  %reload_ext autoreload\n"
     ]
    }
   ],
   "source": [
    "%load_ext autoreload\n",
    "%autoreload 2\n",
    "\n",
    "import numpy as np\n",
    "import pandas as pd\n",
    "from os import listdir\n",
    "from os.path import isfile, join\n",
    "import pymc3 as pm\n",
    "import math as m\n",
    "import arviz as az\n",
    "\n",
    "import dive"
   ]
  },
  {
   "cell_type": "code",
   "execution_count": 3,
   "metadata": {},
   "outputs": [],
   "source": [
    "RANDOM_SEED = 8927\n",
    "np.random.seed(RANDOM_SEED)\n",
    "az.style.use(\"arviz-darkgrid\")"
   ]
  },
  {
   "cell_type": "code",
   "execution_count": 4,
   "metadata": {},
   "outputs": [
    {
     "output_type": "execute_result",
     "data": {
      "text/plain": [
       "array([0.38853985, 0.23180609, 0.37965406])"
      ]
     },
     "metadata": {},
     "execution_count": 4
    }
   ],
   "source": [
    "dive.sample_dirichlet(np.array([5, 5, 5]))"
   ]
  },
  {
   "cell_type": "code",
   "execution_count": 9,
   "metadata": {},
   "outputs": [
    {
     "output_type": "stream",
     "name": "stdout",
     "text": [
      "(500, 10)\n"
     ]
    }
   ],
   "source": [
    "J = 10\n",
    "N = 500\n",
    "\n",
    "ncounts = 20\n",
    "tau_true = 0.5\n",
    "alpha = tau_true * np.ones([N, J])\n",
    "p_true = dive.sample_dirichlet(alpha)\n",
    "counts = np.zeros([N, J])\n",
    "\n",
    "for i in range(N):\n",
    "    counts[i] = np.random.multinomial(ncounts, p_true[i])\n",
    "print(counts.shape)"
   ]
  },
  {
   "cell_type": "code",
   "execution_count": 14,
   "metadata": {},
   "outputs": [
    {
     "output_type": "stream",
     "name": "stderr",
     "text": [
      "Sequential sampling (2 chains in 1 job)\n",
      "CompoundStep\n",
      ">ConjugateStep: [p]\n",
      ">NUTS: [tau]\n"
     ]
    },
    {
     "output_type": "display_data",
     "data": {
      "text/plain": "<IPython.core.display.HTML object>",
      "text/html": "\n    <div>\n        <style>\n            /* Turns off some styling */\n            progress {\n                /* gets rid of default border in Firefox and Opera. */\n                border: none;\n                /* Needs to be in here for Safari polyfill so background images work as expected. */\n                background-size: auto;\n            }\n            .progress-bar-interrupted, .progress-bar-interrupted::-webkit-progress-bar {\n                background: #F44336;\n            }\n        </style>\n      <progress value='0' class='' max='2000' style='width:300px; height:20px; vertical-align: middle;'></progress>\n      \n    </div>\n    "
     },
     "metadata": {}
    },
    {
     "output_type": "display_data",
     "data": {
      "text/plain": "<IPython.core.display.HTML object>",
      "text/html": "\n    <div>\n        <style>\n            /* Turns off some styling */\n            progress {\n                /* gets rid of default border in Firefox and Opera. */\n                border: none;\n                /* Needs to be in here for Safari polyfill so background images work as expected. */\n                background-size: auto;\n            }\n            .progress-bar-interrupted, .progress-bar-interrupted::-webkit-progress-bar {\n                background: #F44336;\n            }\n        </style>\n      <progress value='0' class='' max='2000' style='width:300px; height:20px; vertical-align: middle;'></progress>\n      \n    </div>\n    "
     },
     "metadata": {}
    },
    {
     "output_type": "stream",
     "name": "stderr",
     "text": [
      "Sampling 2 chains for 1_000 tune and 1_000 draw iterations (2_000 + 2_000 draws total) took 15 seconds.\n",
      "The acceptance probability does not match the target. It is 0.8879464800602578, but should be close to 0.8. Try to increase the number of tuning steps.\n",
      "The estimated number of effective samples is smaller than 200 for some parameters.\n",
      "Sequential sampling (2 chains in 1 job)\n",
      "NUTS: [p, tau]\n"
     ]
    },
    {
     "output_type": "display_data",
     "data": {
      "text/plain": "<IPython.core.display.HTML object>",
      "text/html": "\n    <div>\n        <style>\n            /* Turns off some styling */\n            progress {\n                /* gets rid of default border in Firefox and Opera. */\n                border: none;\n                /* Needs to be in here for Safari polyfill so background images work as expected. */\n                background-size: auto;\n            }\n            .progress-bar-interrupted, .progress-bar-interrupted::-webkit-progress-bar {\n                background: #F44336;\n            }\n        </style>\n      <progress value='0' class='' max='2000' style='width:300px; height:20px; vertical-align: middle;'></progress>\n      \n    </div>\n    "
     },
     "metadata": {}
    },
    {
     "output_type": "display_data",
     "data": {
      "text/plain": "<IPython.core.display.HTML object>",
      "text/html": "\n    <div>\n        <style>\n            /* Turns off some styling */\n            progress {\n                /* gets rid of default border in Firefox and Opera. */\n                border: none;\n                /* Needs to be in here for Safari polyfill so background images work as expected. */\n                background-size: auto;\n            }\n            .progress-bar-interrupted, .progress-bar-interrupted::-webkit-progress-bar {\n                background: #F44336;\n            }\n        </style>\n      <progress value='0' class='' max='2000' style='width:300px; height:20px; vertical-align: middle;'></progress>\n      \n    </div>\n    "
     },
     "metadata": {}
    },
    {
     "output_type": "stream",
     "name": "stderr",
     "text": [
      "Sampling 2 chains for 1_000 tune and 1_000 draw iterations (2_000 + 2_000 draws total) took 656 seconds.\n",
      "The estimated number of effective samples is smaller than 200 for some parameters.\n"
     ]
    }
   ],
   "source": [
    "traces = []\n",
    "models = []\n",
    "names = [\"Partial conjugate sampling\", \"Full NUTS\"]\n",
    "\n",
    "for use_conjugate in [True, False]:\n",
    "    with pm.Model() as model:\n",
    "        tau = pm.Exponential(\"tau\", lam=1, testval=1.0)      \n",
    "\n",
    "        if use_conjugate:\n",
    "            p = pm.Dirichlet(\"p\", a = tau * np.ones([N, J]))\n",
    "            # If we use the conjugate sampling, we don't need to define the likelihood\n",
    "            # as it's already taken into account in our custom step method\n",
    "            step = [dive.ConjugateStep(p.transformed, counts, tau)]\n",
    "\n",
    "        else:\n",
    "            alpha = pm.Deterministic(\"alpha\", tau * np.ones([N, J]))\n",
    "            p = pm.Dirichlet(\"p\", a=alpha)\n",
    "            x = pm.Multinomial(\"x\", n=ncounts, p=p, observed=counts)\n",
    "            step = []\n",
    "\n",
    "        trace = pm.sample(step=step, chains=2, cores=1, return_inferencedata=True)\n",
    "        traces.append(trace)\n",
    "\n",
    "    assert all(az.summary(trace)[\"r_hat\"] < 1.1)\n",
    "    models.append(model)"
   ]
  },
  {
   "cell_type": "code",
   "execution_count": null,
   "metadata": {},
   "outputs": [],
   "source": [
    "import matplotlib.pyplot as plt\n",
    "\n",
    "for name, trace in zip(names, traces):\n",
    "    ax = az.plot_trace(trace, var_names=\"tau\")\n",
    "    ax[0, 0].axvline(0.5, label=\"True value\", color=\"k\")\n",
    "    ax[0, 0].legend()\n",
    "    plt.suptitle(name)"
   ]
  },
  {
   "cell_type": "code",
   "execution_count": null,
   "metadata": {},
   "outputs": [],
   "source": [
    "summaries_p = []\n",
    "for trace, model in zip(traces, models):\n",
    "    with model:\n",
    "        summaries_p.append(az.summary(trace, var_names=\"p\"))\n",
    "\n",
    "[plt.hist(s[\"ess_mean\"], bins=50, alpha=0.4, label=names[i]) for i, s in enumerate(summaries_p)]\n",
    "plt.legend(), plt.xlabel(\"Effective sample size\");"
   ]
  },
  {
   "cell_type": "code",
   "execution_count": null,
   "metadata": {},
   "outputs": [],
   "source": [
    "print(\"Minimum effective sample sizes across all entries of p:\")\n",
    "print({names[i]: s[\"ess_mean\"].min() for i, s in enumerate(summaries_p)})"
   ]
  },
  {
   "cell_type": "code",
   "execution_count": null,
   "metadata": {},
   "outputs": [],
   "source": [
    "print(\"Minimum ESS/second across all entries of p:\")\n",
    "print(\n",
    "    {\n",
    "        names[i]: s[\"ess_mean\"].min() / traces[i].posterior.sampling_time\n",
    "        for i, s in enumerate(summaries_p)\n",
    "    }\n",
    ")"
   ]
  }
 ]
}